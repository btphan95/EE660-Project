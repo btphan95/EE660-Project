{
 "cells": [
  {
   "cell_type": "markdown",
   "metadata": {
    "_uuid": "f7d07ed4b55e5e538a2bf78dfbb38c7822b2da98"
   },
   "source": [
    "# PUBG Finish Placement Prediction\n",
    "PlayerUnknown's BattleGrounds (PUBG) has enjoyed massive popularity. With over 50 million copies sold, it's the fifth best selling game of all time, and has millions of active monthly players. \n"
   ]
  },
  {
   "cell_type": "code",
   "execution_count": 1,
   "metadata": {
    "_cell_guid": "b1076dfc-b9ad-4769-8c92-a6c4dae69d19",
    "_uuid": "8f2839f25d086af736a60e9eeb907d3b93b6e0e5"
   },
   "outputs": [
    {
     "name": "stdout",
     "output_type": "stream",
     "text": [
      "['sample_submission_V2.csv', 'test_V2.csv', 'train_V2.csv']\n"
     ]
    }
   ],
   "source": [
    "#EE 660 Project\n",
    "# Created by Binh Phan\n",
    "\n",
    "# For autoreloading modules\n",
    "%load_ext autoreload\n",
    "%autoreload 2\n",
    "# # For notebook plotting\n",
    "# %matplotlib inline\n",
    "\n",
    "#Standard libraries\n",
    "import numpy as np # linear algebra\n",
    "import pandas as pd # data processing, CSV file I/O (e.g. pd.read_csv)\n",
    "import os\n",
    "print(os.listdir(\"../input\"))\n",
    "# Visualization\n",
    "import scipy\n",
    "import matplotlib.pyplot as plt\n",
    "import seaborn as sns\n",
    "from scipy.cluster import hierarchy as hc\n",
    "\n",
    "#Machine Learning\n",
    "\n",
    "import sklearn\n",
    "from sklearn.ensemble import GradientBoostingRegressor\n",
    "from sklearn.ensemble import RandomForestRegressor\n",
    "from sklearn.neural_network import MLPRegressor\n",
    "from sklearn.decomposition import PCA\n",
    "# import tensorflow as tf\n",
    "# from keras.models import Sequential\n",
    "# from keras.layers import Dense, Dropout, BatchNormalization\n",
    "# from keras.callbacks import EarlyStopping\n",
    "# from keras import optimizers\n",
    "# from keras import regularizers\n",
    "import xgboost as xgb\n",
    "# import lightgbm as lgb"
   ]
  },
  {
   "cell_type": "code",
   "execution_count": 3,
   "metadata": {
    "_cell_guid": "79c7e3d0-c299-4dcb-8224-4455121ee9b0",
    "_kg_hide-input": false,
    "_uuid": "d629ff2d2480ee46fbb7e2d37f6b5fab8052498a"
   },
   "outputs": [],
   "source": [
    "train = pd.read_csv('../input/train_V2.csv')"
   ]
  },
  {
   "cell_type": "code",
   "execution_count": 3,
   "metadata": {
    "_uuid": "2e798a7a2882728c239ee5e945203e9859527a30"
   },
   "outputs": [
    {
     "data": {
      "text/html": [
       "<div>\n",
       "<style scoped>\n",
       "    .dataframe tbody tr th:only-of-type {\n",
       "        vertical-align: middle;\n",
       "    }\n",
       "\n",
       "    .dataframe tbody tr th {\n",
       "        vertical-align: top;\n",
       "    }\n",
       "\n",
       "    .dataframe thead th {\n",
       "        text-align: right;\n",
       "    }\n",
       "</style>\n",
       "<table border=\"1\" class=\"dataframe\">\n",
       "  <thead>\n",
       "    <tr style=\"text-align: right;\">\n",
       "      <th></th>\n",
       "      <th>Id</th>\n",
       "      <th>groupId</th>\n",
       "      <th>matchId</th>\n",
       "      <th>assists</th>\n",
       "      <th>boosts</th>\n",
       "      <th>damageDealt</th>\n",
       "      <th>DBNOs</th>\n",
       "      <th>headshotKills</th>\n",
       "      <th>heals</th>\n",
       "      <th>killPlace</th>\n",
       "      <th>killPoints</th>\n",
       "      <th>kills</th>\n",
       "      <th>killStreaks</th>\n",
       "      <th>longestKill</th>\n",
       "      <th>matchDuration</th>\n",
       "      <th>matchType</th>\n",
       "      <th>maxPlace</th>\n",
       "      <th>numGroups</th>\n",
       "      <th>rankPoints</th>\n",
       "      <th>revives</th>\n",
       "      <th>rideDistance</th>\n",
       "      <th>roadKills</th>\n",
       "      <th>swimDistance</th>\n",
       "      <th>teamKills</th>\n",
       "      <th>vehicleDestroys</th>\n",
       "      <th>walkDistance</th>\n",
       "      <th>weaponsAcquired</th>\n",
       "      <th>winPoints</th>\n",
       "      <th>winPlacePerc</th>\n",
       "    </tr>\n",
       "  </thead>\n",
       "  <tbody>\n",
       "    <tr>\n",
       "      <th>0</th>\n",
       "      <td>7f96b2f878858a</td>\n",
       "      <td>4d4b580de459be</td>\n",
       "      <td>a10357fd1a4a91</td>\n",
       "      <td>0</td>\n",
       "      <td>0</td>\n",
       "      <td>0.00</td>\n",
       "      <td>0</td>\n",
       "      <td>0</td>\n",
       "      <td>0</td>\n",
       "      <td>60</td>\n",
       "      <td>1241</td>\n",
       "      <td>0</td>\n",
       "      <td>0</td>\n",
       "      <td>0.00</td>\n",
       "      <td>1306</td>\n",
       "      <td>squad-fpp</td>\n",
       "      <td>28</td>\n",
       "      <td>26</td>\n",
       "      <td>-1</td>\n",
       "      <td>0</td>\n",
       "      <td>0.0000</td>\n",
       "      <td>0</td>\n",
       "      <td>0.00</td>\n",
       "      <td>0</td>\n",
       "      <td>0</td>\n",
       "      <td>244.80</td>\n",
       "      <td>1</td>\n",
       "      <td>1466</td>\n",
       "      <td>0.4444</td>\n",
       "    </tr>\n",
       "    <tr>\n",
       "      <th>1</th>\n",
       "      <td>eef90569b9d03c</td>\n",
       "      <td>684d5656442f9e</td>\n",
       "      <td>aeb375fc57110c</td>\n",
       "      <td>0</td>\n",
       "      <td>0</td>\n",
       "      <td>91.47</td>\n",
       "      <td>0</td>\n",
       "      <td>0</td>\n",
       "      <td>0</td>\n",
       "      <td>57</td>\n",
       "      <td>0</td>\n",
       "      <td>0</td>\n",
       "      <td>0</td>\n",
       "      <td>0.00</td>\n",
       "      <td>1777</td>\n",
       "      <td>squad-fpp</td>\n",
       "      <td>26</td>\n",
       "      <td>25</td>\n",
       "      <td>1484</td>\n",
       "      <td>0</td>\n",
       "      <td>0.0045</td>\n",
       "      <td>0</td>\n",
       "      <td>11.04</td>\n",
       "      <td>0</td>\n",
       "      <td>0</td>\n",
       "      <td>1434.00</td>\n",
       "      <td>5</td>\n",
       "      <td>0</td>\n",
       "      <td>0.6400</td>\n",
       "    </tr>\n",
       "    <tr>\n",
       "      <th>2</th>\n",
       "      <td>1eaf90ac73de72</td>\n",
       "      <td>6a4a42c3245a74</td>\n",
       "      <td>110163d8bb94ae</td>\n",
       "      <td>1</td>\n",
       "      <td>0</td>\n",
       "      <td>68.00</td>\n",
       "      <td>0</td>\n",
       "      <td>0</td>\n",
       "      <td>0</td>\n",
       "      <td>47</td>\n",
       "      <td>0</td>\n",
       "      <td>0</td>\n",
       "      <td>0</td>\n",
       "      <td>0.00</td>\n",
       "      <td>1318</td>\n",
       "      <td>duo</td>\n",
       "      <td>50</td>\n",
       "      <td>47</td>\n",
       "      <td>1491</td>\n",
       "      <td>0</td>\n",
       "      <td>0.0000</td>\n",
       "      <td>0</td>\n",
       "      <td>0.00</td>\n",
       "      <td>0</td>\n",
       "      <td>0</td>\n",
       "      <td>161.80</td>\n",
       "      <td>2</td>\n",
       "      <td>0</td>\n",
       "      <td>0.7755</td>\n",
       "    </tr>\n",
       "    <tr>\n",
       "      <th>3</th>\n",
       "      <td>4616d365dd2853</td>\n",
       "      <td>a930a9c79cd721</td>\n",
       "      <td>f1f1f4ef412d7e</td>\n",
       "      <td>0</td>\n",
       "      <td>0</td>\n",
       "      <td>32.90</td>\n",
       "      <td>0</td>\n",
       "      <td>0</td>\n",
       "      <td>0</td>\n",
       "      <td>75</td>\n",
       "      <td>0</td>\n",
       "      <td>0</td>\n",
       "      <td>0</td>\n",
       "      <td>0.00</td>\n",
       "      <td>1436</td>\n",
       "      <td>squad-fpp</td>\n",
       "      <td>31</td>\n",
       "      <td>30</td>\n",
       "      <td>1408</td>\n",
       "      <td>0</td>\n",
       "      <td>0.0000</td>\n",
       "      <td>0</td>\n",
       "      <td>0.00</td>\n",
       "      <td>0</td>\n",
       "      <td>0</td>\n",
       "      <td>202.70</td>\n",
       "      <td>3</td>\n",
       "      <td>0</td>\n",
       "      <td>0.1667</td>\n",
       "    </tr>\n",
       "    <tr>\n",
       "      <th>4</th>\n",
       "      <td>315c96c26c9aac</td>\n",
       "      <td>de04010b3458dd</td>\n",
       "      <td>6dc8ff871e21e6</td>\n",
       "      <td>0</td>\n",
       "      <td>0</td>\n",
       "      <td>100.00</td>\n",
       "      <td>0</td>\n",
       "      <td>0</td>\n",
       "      <td>0</td>\n",
       "      <td>45</td>\n",
       "      <td>0</td>\n",
       "      <td>1</td>\n",
       "      <td>1</td>\n",
       "      <td>58.53</td>\n",
       "      <td>1424</td>\n",
       "      <td>solo-fpp</td>\n",
       "      <td>97</td>\n",
       "      <td>95</td>\n",
       "      <td>1560</td>\n",
       "      <td>0</td>\n",
       "      <td>0.0000</td>\n",
       "      <td>0</td>\n",
       "      <td>0.00</td>\n",
       "      <td>0</td>\n",
       "      <td>0</td>\n",
       "      <td>49.75</td>\n",
       "      <td>2</td>\n",
       "      <td>0</td>\n",
       "      <td>0.1875</td>\n",
       "    </tr>\n",
       "  </tbody>\n",
       "</table>\n",
       "</div>"
      ],
      "text/plain": [
       "               Id         groupId      ...      winPoints  winPlacePerc\n",
       "0  7f96b2f878858a  4d4b580de459be      ...           1466        0.4444\n",
       "1  eef90569b9d03c  684d5656442f9e      ...              0        0.6400\n",
       "2  1eaf90ac73de72  6a4a42c3245a74      ...              0        0.7755\n",
       "3  4616d365dd2853  a930a9c79cd721      ...              0        0.1667\n",
       "4  315c96c26c9aac  de04010b3458dd      ...              0        0.1875\n",
       "\n",
       "[5 rows x 29 columns]"
      ]
     },
     "execution_count": 3,
     "metadata": {},
     "output_type": "execute_result"
    }
   ],
   "source": [
    "train.head()"
   ]
  },
  {
   "cell_type": "code",
   "execution_count": 4,
   "metadata": {
    "_uuid": "441b4a027a52cb6f7ca49bcc39e8793fbb30258a"
   },
   "outputs": [
    {
     "data": {
      "text/html": [
       "<div>\n",
       "<style scoped>\n",
       "    .dataframe tbody tr th:only-of-type {\n",
       "        vertical-align: middle;\n",
       "    }\n",
       "\n",
       "    .dataframe tbody tr th {\n",
       "        vertical-align: top;\n",
       "    }\n",
       "\n",
       "    .dataframe thead th {\n",
       "        text-align: right;\n",
       "    }\n",
       "</style>\n",
       "<table border=\"1\" class=\"dataframe\">\n",
       "  <thead>\n",
       "    <tr style=\"text-align: right;\">\n",
       "      <th></th>\n",
       "      <th>Id</th>\n",
       "      <th>groupId</th>\n",
       "      <th>matchId</th>\n",
       "      <th>assists</th>\n",
       "      <th>boosts</th>\n",
       "      <th>damageDealt</th>\n",
       "      <th>DBNOs</th>\n",
       "      <th>headshotKills</th>\n",
       "      <th>heals</th>\n",
       "      <th>killPlace</th>\n",
       "      <th>killPoints</th>\n",
       "      <th>kills</th>\n",
       "      <th>killStreaks</th>\n",
       "      <th>longestKill</th>\n",
       "      <th>matchDuration</th>\n",
       "      <th>matchType</th>\n",
       "      <th>maxPlace</th>\n",
       "      <th>numGroups</th>\n",
       "      <th>rankPoints</th>\n",
       "      <th>revives</th>\n",
       "      <th>rideDistance</th>\n",
       "      <th>roadKills</th>\n",
       "      <th>swimDistance</th>\n",
       "      <th>teamKills</th>\n",
       "      <th>vehicleDestroys</th>\n",
       "      <th>walkDistance</th>\n",
       "      <th>weaponsAcquired</th>\n",
       "      <th>winPoints</th>\n",
       "    </tr>\n",
       "  </thead>\n",
       "  <tbody>\n",
       "    <tr>\n",
       "      <th>0</th>\n",
       "      <td>9329eb41e215eb</td>\n",
       "      <td>676b23c24e70d6</td>\n",
       "      <td>45b576ab7daa7f</td>\n",
       "      <td>0</td>\n",
       "      <td>0</td>\n",
       "      <td>51.46</td>\n",
       "      <td>0</td>\n",
       "      <td>0</td>\n",
       "      <td>0</td>\n",
       "      <td>73</td>\n",
       "      <td>0</td>\n",
       "      <td>0</td>\n",
       "      <td>0</td>\n",
       "      <td>0.00</td>\n",
       "      <td>1884</td>\n",
       "      <td>squad-fpp</td>\n",
       "      <td>28</td>\n",
       "      <td>28</td>\n",
       "      <td>1500</td>\n",
       "      <td>0</td>\n",
       "      <td>0.0</td>\n",
       "      <td>0</td>\n",
       "      <td>0.0</td>\n",
       "      <td>0</td>\n",
       "      <td>0</td>\n",
       "      <td>588.0</td>\n",
       "      <td>1</td>\n",
       "      <td>0</td>\n",
       "    </tr>\n",
       "    <tr>\n",
       "      <th>1</th>\n",
       "      <td>639bd0dcd7bda8</td>\n",
       "      <td>430933124148dd</td>\n",
       "      <td>42a9a0b906c928</td>\n",
       "      <td>0</td>\n",
       "      <td>4</td>\n",
       "      <td>179.10</td>\n",
       "      <td>0</td>\n",
       "      <td>0</td>\n",
       "      <td>2</td>\n",
       "      <td>11</td>\n",
       "      <td>0</td>\n",
       "      <td>2</td>\n",
       "      <td>1</td>\n",
       "      <td>361.90</td>\n",
       "      <td>1811</td>\n",
       "      <td>duo-fpp</td>\n",
       "      <td>48</td>\n",
       "      <td>47</td>\n",
       "      <td>1503</td>\n",
       "      <td>2</td>\n",
       "      <td>4669.0</td>\n",
       "      <td>0</td>\n",
       "      <td>0.0</td>\n",
       "      <td>0</td>\n",
       "      <td>0</td>\n",
       "      <td>2017.0</td>\n",
       "      <td>6</td>\n",
       "      <td>0</td>\n",
       "    </tr>\n",
       "    <tr>\n",
       "      <th>2</th>\n",
       "      <td>63d5c8ef8dfe91</td>\n",
       "      <td>0b45f5db20ba99</td>\n",
       "      <td>87e7e4477a048e</td>\n",
       "      <td>1</td>\n",
       "      <td>0</td>\n",
       "      <td>23.40</td>\n",
       "      <td>0</td>\n",
       "      <td>0</td>\n",
       "      <td>4</td>\n",
       "      <td>49</td>\n",
       "      <td>0</td>\n",
       "      <td>0</td>\n",
       "      <td>0</td>\n",
       "      <td>0.00</td>\n",
       "      <td>1793</td>\n",
       "      <td>squad-fpp</td>\n",
       "      <td>28</td>\n",
       "      <td>27</td>\n",
       "      <td>1565</td>\n",
       "      <td>0</td>\n",
       "      <td>0.0</td>\n",
       "      <td>0</td>\n",
       "      <td>0.0</td>\n",
       "      <td>0</td>\n",
       "      <td>0</td>\n",
       "      <td>787.8</td>\n",
       "      <td>4</td>\n",
       "      <td>0</td>\n",
       "    </tr>\n",
       "    <tr>\n",
       "      <th>3</th>\n",
       "      <td>cf5b81422591d1</td>\n",
       "      <td>b7497dbdc77f4a</td>\n",
       "      <td>1b9a94f1af67f1</td>\n",
       "      <td>0</td>\n",
       "      <td>0</td>\n",
       "      <td>65.52</td>\n",
       "      <td>0</td>\n",
       "      <td>0</td>\n",
       "      <td>0</td>\n",
       "      <td>54</td>\n",
       "      <td>0</td>\n",
       "      <td>0</td>\n",
       "      <td>0</td>\n",
       "      <td>0.00</td>\n",
       "      <td>1834</td>\n",
       "      <td>duo-fpp</td>\n",
       "      <td>45</td>\n",
       "      <td>44</td>\n",
       "      <td>1465</td>\n",
       "      <td>0</td>\n",
       "      <td>0.0</td>\n",
       "      <td>0</td>\n",
       "      <td>0.0</td>\n",
       "      <td>0</td>\n",
       "      <td>0</td>\n",
       "      <td>1812.0</td>\n",
       "      <td>3</td>\n",
       "      <td>0</td>\n",
       "    </tr>\n",
       "    <tr>\n",
       "      <th>4</th>\n",
       "      <td>ee6a295187ba21</td>\n",
       "      <td>6604ce20a1d230</td>\n",
       "      <td>40754a93016066</td>\n",
       "      <td>0</td>\n",
       "      <td>4</td>\n",
       "      <td>330.20</td>\n",
       "      <td>1</td>\n",
       "      <td>2</td>\n",
       "      <td>1</td>\n",
       "      <td>7</td>\n",
       "      <td>0</td>\n",
       "      <td>3</td>\n",
       "      <td>1</td>\n",
       "      <td>60.06</td>\n",
       "      <td>1326</td>\n",
       "      <td>squad-fpp</td>\n",
       "      <td>28</td>\n",
       "      <td>27</td>\n",
       "      <td>1480</td>\n",
       "      <td>1</td>\n",
       "      <td>0.0</td>\n",
       "      <td>0</td>\n",
       "      <td>0.0</td>\n",
       "      <td>0</td>\n",
       "      <td>0</td>\n",
       "      <td>2963.0</td>\n",
       "      <td>4</td>\n",
       "      <td>0</td>\n",
       "    </tr>\n",
       "  </tbody>\n",
       "</table>\n",
       "</div>"
      ],
      "text/plain": [
       "               Id         groupId    ...     weaponsAcquired  winPoints\n",
       "0  9329eb41e215eb  676b23c24e70d6    ...                   1          0\n",
       "1  639bd0dcd7bda8  430933124148dd    ...                   6          0\n",
       "2  63d5c8ef8dfe91  0b45f5db20ba99    ...                   4          0\n",
       "3  cf5b81422591d1  b7497dbdc77f4a    ...                   3          0\n",
       "4  ee6a295187ba21  6604ce20a1d230    ...                   4          0\n",
       "\n",
       "[5 rows x 28 columns]"
      ]
     },
     "execution_count": 4,
     "metadata": {},
     "output_type": "execute_result"
    }
   ],
   "source": [
    "x_test.head()"
   ]
  },
  {
   "cell_type": "code",
   "execution_count": 5,
   "metadata": {
    "_uuid": "a090dea34b13dd3efbe3e572cd1d21efa8526439"
   },
   "outputs": [],
   "source": [
    "# Remove Id, which is not a useful feature\n",
    "train.drop(columns=['Id'], inplace=True)"
   ]
  },
  {
   "cell_type": "code",
   "execution_count": 6,
   "metadata": {
    "_uuid": "649a795067aa49d2069a5658fbf6234fc114c71e"
   },
   "outputs": [
    {
     "data": {
      "text/plain": [
       "groupId            False\n",
       "matchId            False\n",
       "assists            False\n",
       "boosts             False\n",
       "damageDealt        False\n",
       "DBNOs              False\n",
       "headshotKills      False\n",
       "heals              False\n",
       "killPlace          False\n",
       "killPoints         False\n",
       "kills              False\n",
       "killStreaks        False\n",
       "longestKill        False\n",
       "matchDuration      False\n",
       "matchType          False\n",
       "maxPlace           False\n",
       "numGroups          False\n",
       "rankPoints         False\n",
       "revives            False\n",
       "rideDistance       False\n",
       "roadKills          False\n",
       "swimDistance       False\n",
       "teamKills          False\n",
       "vehicleDestroys    False\n",
       "walkDistance       False\n",
       "weaponsAcquired    False\n",
       "winPoints          False\n",
       "winPlacePerc        True\n",
       "dtype: bool"
      ]
     },
     "execution_count": 6,
     "metadata": {},
     "output_type": "execute_result"
    }
   ],
   "source": [
    "train.isna().any()"
   ]
  },
  {
   "cell_type": "code",
   "execution_count": 7,
   "metadata": {
    "_uuid": "218ec2772f5fb1988418306b3803fcb7cddabe16"
   },
   "outputs": [
    {
     "data": {
      "text/html": [
       "<div>\n",
       "<style scoped>\n",
       "    .dataframe tbody tr th:only-of-type {\n",
       "        vertical-align: middle;\n",
       "    }\n",
       "\n",
       "    .dataframe tbody tr th {\n",
       "        vertical-align: top;\n",
       "    }\n",
       "\n",
       "    .dataframe thead th {\n",
       "        text-align: right;\n",
       "    }\n",
       "</style>\n",
       "<table border=\"1\" class=\"dataframe\">\n",
       "  <thead>\n",
       "    <tr style=\"text-align: right;\">\n",
       "      <th></th>\n",
       "      <th>groupId</th>\n",
       "      <th>matchId</th>\n",
       "      <th>assists</th>\n",
       "      <th>boosts</th>\n",
       "      <th>damageDealt</th>\n",
       "      <th>DBNOs</th>\n",
       "      <th>headshotKills</th>\n",
       "      <th>heals</th>\n",
       "      <th>killPlace</th>\n",
       "      <th>killPoints</th>\n",
       "      <th>kills</th>\n",
       "      <th>killStreaks</th>\n",
       "      <th>longestKill</th>\n",
       "      <th>matchDuration</th>\n",
       "      <th>matchType</th>\n",
       "      <th>maxPlace</th>\n",
       "      <th>numGroups</th>\n",
       "      <th>rankPoints</th>\n",
       "      <th>revives</th>\n",
       "      <th>rideDistance</th>\n",
       "      <th>roadKills</th>\n",
       "      <th>swimDistance</th>\n",
       "      <th>teamKills</th>\n",
       "      <th>vehicleDestroys</th>\n",
       "      <th>walkDistance</th>\n",
       "      <th>weaponsAcquired</th>\n",
       "      <th>winPoints</th>\n",
       "      <th>winPlacePerc</th>\n",
       "    </tr>\n",
       "  </thead>\n",
       "  <tbody>\n",
       "    <tr>\n",
       "      <th>2744604</th>\n",
       "      <td>12dfbede33f92b</td>\n",
       "      <td>224a123c53e008</td>\n",
       "      <td>0</td>\n",
       "      <td>0</td>\n",
       "      <td>0.0</td>\n",
       "      <td>0</td>\n",
       "      <td>0</td>\n",
       "      <td>0</td>\n",
       "      <td>1</td>\n",
       "      <td>0</td>\n",
       "      <td>0</td>\n",
       "      <td>0</td>\n",
       "      <td>0.0</td>\n",
       "      <td>9</td>\n",
       "      <td>solo-fpp</td>\n",
       "      <td>1</td>\n",
       "      <td>1</td>\n",
       "      <td>1574</td>\n",
       "      <td>0</td>\n",
       "      <td>0.0</td>\n",
       "      <td>0</td>\n",
       "      <td>0.0</td>\n",
       "      <td>0</td>\n",
       "      <td>0</td>\n",
       "      <td>0.0</td>\n",
       "      <td>0</td>\n",
       "      <td>0</td>\n",
       "      <td>NaN</td>\n",
       "    </tr>\n",
       "  </tbody>\n",
       "</table>\n",
       "</div>"
      ],
      "text/plain": [
       "                groupId         matchId      ...       winPoints  winPlacePerc\n",
       "2744604  12dfbede33f92b  224a123c53e008      ...               0           NaN\n",
       "\n",
       "[1 rows x 28 columns]"
      ]
     },
     "execution_count": 7,
     "metadata": {},
     "output_type": "execute_result"
    }
   ],
   "source": [
    "train[train['winPlacePerc'].isnull()]\n"
   ]
  },
  {
   "cell_type": "code",
   "execution_count": 8,
   "metadata": {
    "_uuid": "723ace3dea35f7d6cac56845866750c1f39ae8d5"
   },
   "outputs": [
    {
     "data": {
      "text/plain": [
       "groupId            False\n",
       "matchId            False\n",
       "assists            False\n",
       "boosts             False\n",
       "damageDealt        False\n",
       "DBNOs              False\n",
       "headshotKills      False\n",
       "heals              False\n",
       "killPlace          False\n",
       "killPoints         False\n",
       "kills              False\n",
       "killStreaks        False\n",
       "longestKill        False\n",
       "matchDuration      False\n",
       "matchType          False\n",
       "maxPlace           False\n",
       "numGroups          False\n",
       "rankPoints         False\n",
       "revives            False\n",
       "rideDistance       False\n",
       "roadKills          False\n",
       "swimDistance       False\n",
       "teamKills          False\n",
       "vehicleDestroys    False\n",
       "walkDistance       False\n",
       "weaponsAcquired    False\n",
       "winPoints          False\n",
       "winPlacePerc       False\n",
       "dtype: bool"
      ]
     },
     "execution_count": 8,
     "metadata": {},
     "output_type": "execute_result"
    }
   ],
   "source": [
    "train = train.dropna()\n",
    "train.isna().any()"
   ]
  },
  {
   "cell_type": "code",
   "execution_count": 9,
   "metadata": {
    "_uuid": "f9cb4cef71ca7a45885fc1591da17b938f4b4fbc"
   },
   "outputs": [
    {
     "name": "stdout",
     "output_type": "stream",
     "text": [
      "<class 'pandas.core.frame.DataFrame'>\n",
      "Int64Index: 4446965 entries, 0 to 4446965\n",
      "Data columns (total 28 columns):\n",
      "groupId            object\n",
      "matchId            object\n",
      "assists            int64\n",
      "boosts             int64\n",
      "damageDealt        float64\n",
      "DBNOs              int64\n",
      "headshotKills      int64\n",
      "heals              int64\n",
      "killPlace          int64\n",
      "killPoints         int64\n",
      "kills              int64\n",
      "killStreaks        int64\n",
      "longestKill        float64\n",
      "matchDuration      int64\n",
      "matchType          object\n",
      "maxPlace           int64\n",
      "numGroups          int64\n",
      "rankPoints         int64\n",
      "revives            int64\n",
      "rideDistance       float64\n",
      "roadKills          int64\n",
      "swimDistance       float64\n",
      "teamKills          int64\n",
      "vehicleDestroys    int64\n",
      "walkDistance       float64\n",
      "weaponsAcquired    int64\n",
      "winPoints          int64\n",
      "winPlacePerc       float64\n",
      "dtypes: float64(6), int64(19), object(3)\n",
      "memory usage: 983.9+ MB\n"
     ]
    }
   ],
   "source": [
    "train.info()"
   ]
  },
  {
   "cell_type": "code",
   "execution_count": 10,
   "metadata": {
    "_uuid": "7cacefdc196f028fbe0b679c2a5d749c07d9e952"
   },
   "outputs": [
    {
     "data": {
      "text/plain": [
       "(4446965, 28)"
      ]
     },
     "execution_count": 10,
     "metadata": {},
     "output_type": "execute_result"
    }
   ],
   "source": [
    "train.shape"
   ]
  },
  {
   "cell_type": "code",
   "execution_count": 11,
   "metadata": {
    "_uuid": "641f7dc65e2e94073041a8e6887837e6cfaa9e47"
   },
   "outputs": [
    {
     "name": "stdout",
     "output_type": "stream",
     "text": [
      "There are 16 different Match types in the dataset.\n"
     ]
    },
    {
     "data": {
      "text/html": [
       "<div>\n",
       "<style scoped>\n",
       "    .dataframe tbody tr th:only-of-type {\n",
       "        vertical-align: middle;\n",
       "    }\n",
       "\n",
       "    .dataframe tbody tr th {\n",
       "        vertical-align: top;\n",
       "    }\n",
       "\n",
       "    .dataframe thead th {\n",
       "        text-align: right;\n",
       "    }\n",
       "</style>\n",
       "<table border=\"1\" class=\"dataframe\">\n",
       "  <thead>\n",
       "    <tr style=\"text-align: right;\">\n",
       "      <th></th>\n",
       "      <th>matchType_crashfpp</th>\n",
       "      <th>matchType_crashtpp</th>\n",
       "      <th>matchType_duo</th>\n",
       "      <th>matchType_duo-fpp</th>\n",
       "      <th>matchType_flarefpp</th>\n",
       "      <th>matchType_flaretpp</th>\n",
       "      <th>matchType_normal-duo</th>\n",
       "      <th>matchType_normal-duo-fpp</th>\n",
       "      <th>matchType_normal-solo</th>\n",
       "      <th>matchType_normal-solo-fpp</th>\n",
       "      <th>matchType_normal-squad</th>\n",
       "      <th>matchType_normal-squad-fpp</th>\n",
       "      <th>matchType_solo</th>\n",
       "      <th>matchType_solo-fpp</th>\n",
       "      <th>matchType_squad</th>\n",
       "      <th>matchType_squad-fpp</th>\n",
       "    </tr>\n",
       "  </thead>\n",
       "  <tbody>\n",
       "    <tr>\n",
       "      <th>0</th>\n",
       "      <td>0</td>\n",
       "      <td>0</td>\n",
       "      <td>0</td>\n",
       "      <td>0</td>\n",
       "      <td>0</td>\n",
       "      <td>0</td>\n",
       "      <td>0</td>\n",
       "      <td>0</td>\n",
       "      <td>0</td>\n",
       "      <td>0</td>\n",
       "      <td>0</td>\n",
       "      <td>0</td>\n",
       "      <td>0</td>\n",
       "      <td>0</td>\n",
       "      <td>0</td>\n",
       "      <td>1</td>\n",
       "    </tr>\n",
       "    <tr>\n",
       "      <th>1</th>\n",
       "      <td>0</td>\n",
       "      <td>0</td>\n",
       "      <td>0</td>\n",
       "      <td>0</td>\n",
       "      <td>0</td>\n",
       "      <td>0</td>\n",
       "      <td>0</td>\n",
       "      <td>0</td>\n",
       "      <td>0</td>\n",
       "      <td>0</td>\n",
       "      <td>0</td>\n",
       "      <td>0</td>\n",
       "      <td>0</td>\n",
       "      <td>0</td>\n",
       "      <td>0</td>\n",
       "      <td>1</td>\n",
       "    </tr>\n",
       "    <tr>\n",
       "      <th>2</th>\n",
       "      <td>0</td>\n",
       "      <td>0</td>\n",
       "      <td>1</td>\n",
       "      <td>0</td>\n",
       "      <td>0</td>\n",
       "      <td>0</td>\n",
       "      <td>0</td>\n",
       "      <td>0</td>\n",
       "      <td>0</td>\n",
       "      <td>0</td>\n",
       "      <td>0</td>\n",
       "      <td>0</td>\n",
       "      <td>0</td>\n",
       "      <td>0</td>\n",
       "      <td>0</td>\n",
       "      <td>0</td>\n",
       "    </tr>\n",
       "    <tr>\n",
       "      <th>3</th>\n",
       "      <td>0</td>\n",
       "      <td>0</td>\n",
       "      <td>0</td>\n",
       "      <td>0</td>\n",
       "      <td>0</td>\n",
       "      <td>0</td>\n",
       "      <td>0</td>\n",
       "      <td>0</td>\n",
       "      <td>0</td>\n",
       "      <td>0</td>\n",
       "      <td>0</td>\n",
       "      <td>0</td>\n",
       "      <td>0</td>\n",
       "      <td>0</td>\n",
       "      <td>0</td>\n",
       "      <td>1</td>\n",
       "    </tr>\n",
       "    <tr>\n",
       "      <th>4</th>\n",
       "      <td>0</td>\n",
       "      <td>0</td>\n",
       "      <td>0</td>\n",
       "      <td>0</td>\n",
       "      <td>0</td>\n",
       "      <td>0</td>\n",
       "      <td>0</td>\n",
       "      <td>0</td>\n",
       "      <td>0</td>\n",
       "      <td>0</td>\n",
       "      <td>0</td>\n",
       "      <td>0</td>\n",
       "      <td>0</td>\n",
       "      <td>1</td>\n",
       "      <td>0</td>\n",
       "      <td>0</td>\n",
       "    </tr>\n",
       "  </tbody>\n",
       "</table>\n",
       "</div>"
      ],
      "text/plain": [
       "   matchType_crashfpp         ...           matchType_squad-fpp\n",
       "0                   0         ...                             1\n",
       "1                   0         ...                             1\n",
       "2                   0         ...                             0\n",
       "3                   0         ...                             1\n",
       "4                   0         ...                             0\n",
       "\n",
       "[5 rows x 16 columns]"
      ]
     },
     "execution_count": 11,
     "metadata": {},
     "output_type": "execute_result"
    }
   ],
   "source": [
    "print('There are {} different Match types in the dataset.'.format(train['matchType'].nunique()))\n",
    "\n",
    "# One hot encode matchType\n",
    "train = pd.get_dummies(train, columns=['matchType'])\n",
    "\n",
    "# Take a look at the encoding\n",
    "matchType_encoding = train.filter(regex='matchType')\n",
    "matchType_encoding.head()"
   ]
  },
  {
   "cell_type": "code",
   "execution_count": 12,
   "metadata": {
    "_uuid": "f77d50c0c22d4f34cc5021f674478a0b996b4f48"
   },
   "outputs": [
    {
     "data": {
      "text/html": [
       "<div>\n",
       "<style scoped>\n",
       "    .dataframe tbody tr th:only-of-type {\n",
       "        vertical-align: middle;\n",
       "    }\n",
       "\n",
       "    .dataframe tbody tr th {\n",
       "        vertical-align: top;\n",
       "    }\n",
       "\n",
       "    .dataframe thead th {\n",
       "        text-align: right;\n",
       "    }\n",
       "</style>\n",
       "<table border=\"1\" class=\"dataframe\">\n",
       "  <thead>\n",
       "    <tr style=\"text-align: right;\">\n",
       "      <th></th>\n",
       "      <th>groupId_cat</th>\n",
       "      <th>matchId_cat</th>\n",
       "    </tr>\n",
       "  </thead>\n",
       "  <tbody>\n",
       "    <tr>\n",
       "      <th>0</th>\n",
       "      <td>613774</td>\n",
       "      <td>30085</td>\n",
       "    </tr>\n",
       "    <tr>\n",
       "      <th>1</th>\n",
       "      <td>827822</td>\n",
       "      <td>32751</td>\n",
       "    </tr>\n",
       "    <tr>\n",
       "      <th>2</th>\n",
       "      <td>843520</td>\n",
       "      <td>3143</td>\n",
       "    </tr>\n",
       "    <tr>\n",
       "      <th>3</th>\n",
       "      <td>1340461</td>\n",
       "      <td>45260</td>\n",
       "    </tr>\n",
       "    <tr>\n",
       "      <th>4</th>\n",
       "      <td>1757848</td>\n",
       "      <td>20531</td>\n",
       "    </tr>\n",
       "  </tbody>\n",
       "</table>\n",
       "</div>"
      ],
      "text/plain": [
       "   groupId_cat  matchId_cat\n",
       "0       613774        30085\n",
       "1       827822        32751\n",
       "2       843520         3143\n",
       "3      1340461        45260\n",
       "4      1757848        20531"
      ]
     },
     "execution_count": 12,
     "metadata": {},
     "output_type": "execute_result"
    }
   ],
   "source": [
    "# Turn groupId and match Id into categorical types\n",
    "train['groupId'] = train['groupId'].astype('category')\n",
    "train['matchId'] = train['matchId'].astype('category')\n",
    "\n",
    "# Get category coding for groupId and matchID\n",
    "train['groupId_cat'] = train['groupId'].cat.codes\n",
    "train['matchId_cat'] = train['matchId'].cat.codes\n",
    "\n",
    "# Get rid of old columns\n",
    "train.drop(columns=['groupId', 'matchId'], inplace=True)\n",
    "\n",
    "# Lets take a look at our newly created features\n",
    "train[['groupId_cat', 'matchId_cat']].head()"
   ]
  },
  {
   "cell_type": "code",
   "execution_count": 13,
   "metadata": {
    "_uuid": "b4f602c7066a6381e1526f8ccb622032a3dd389c"
   },
   "outputs": [],
   "source": [
    "#Converting the same columns as in train\n",
    "x_test = pd.get_dummies(x_test, columns=['matchType'])\n",
    "x_test['groupId'] = x_test['groupId'].astype('category')\n",
    "x_test['matchId'] = x_test['matchId'].astype('category')\n",
    "\n",
    "# Get category coding for groupId and matchID\n",
    "x_test['groupId_cat'] = x_test['groupId'].cat.codes\n",
    "x_test['matchId_cat'] = x_test['matchId'].cat.codes\n",
    "\n",
    "# Get rid of old columns\n",
    "x_test.drop(columns=['groupId', 'matchId'], inplace=True)"
   ]
  },
  {
   "cell_type": "code",
   "execution_count": 14,
   "metadata": {
    "_uuid": "1edf6db77b024425115b1ecc09dc33c0dad2efaa"
   },
   "outputs": [
    {
     "data": {
      "text/html": [
       "<div>\n",
       "<style scoped>\n",
       "    .dataframe tbody tr th:only-of-type {\n",
       "        vertical-align: middle;\n",
       "    }\n",
       "\n",
       "    .dataframe tbody tr th {\n",
       "        vertical-align: top;\n",
       "    }\n",
       "\n",
       "    .dataframe thead th {\n",
       "        text-align: right;\n",
       "    }\n",
       "</style>\n",
       "<table border=\"1\" class=\"dataframe\">\n",
       "  <thead>\n",
       "    <tr style=\"text-align: right;\">\n",
       "      <th></th>\n",
       "      <th>assists</th>\n",
       "      <th>boosts</th>\n",
       "      <th>damageDealt</th>\n",
       "      <th>DBNOs</th>\n",
       "      <th>headshotKills</th>\n",
       "      <th>heals</th>\n",
       "      <th>killPlace</th>\n",
       "      <th>killPoints</th>\n",
       "      <th>kills</th>\n",
       "      <th>killStreaks</th>\n",
       "      <th>longestKill</th>\n",
       "      <th>matchDuration</th>\n",
       "      <th>maxPlace</th>\n",
       "      <th>numGroups</th>\n",
       "      <th>rankPoints</th>\n",
       "      <th>revives</th>\n",
       "      <th>rideDistance</th>\n",
       "      <th>roadKills</th>\n",
       "      <th>swimDistance</th>\n",
       "      <th>teamKills</th>\n",
       "      <th>vehicleDestroys</th>\n",
       "      <th>walkDistance</th>\n",
       "      <th>weaponsAcquired</th>\n",
       "      <th>winPoints</th>\n",
       "      <th>winPlacePerc</th>\n",
       "      <th>matchType_crashfpp</th>\n",
       "      <th>matchType_crashtpp</th>\n",
       "      <th>matchType_duo</th>\n",
       "      <th>matchType_duo-fpp</th>\n",
       "      <th>matchType_flarefpp</th>\n",
       "      <th>matchType_flaretpp</th>\n",
       "      <th>matchType_normal-duo</th>\n",
       "      <th>matchType_normal-duo-fpp</th>\n",
       "      <th>matchType_normal-solo</th>\n",
       "      <th>matchType_normal-solo-fpp</th>\n",
       "      <th>matchType_normal-squad</th>\n",
       "      <th>matchType_normal-squad-fpp</th>\n",
       "      <th>matchType_solo</th>\n",
       "      <th>matchType_solo-fpp</th>\n",
       "      <th>matchType_squad</th>\n",
       "      <th>matchType_squad-fpp</th>\n",
       "      <th>groupId_cat</th>\n",
       "      <th>matchId_cat</th>\n",
       "    </tr>\n",
       "  </thead>\n",
       "  <tbody>\n",
       "    <tr>\n",
       "      <th>count</th>\n",
       "      <td>4.446965e+06</td>\n",
       "      <td>4.446965e+06</td>\n",
       "      <td>4.446965e+06</td>\n",
       "      <td>4.446965e+06</td>\n",
       "      <td>4.446965e+06</td>\n",
       "      <td>4.446965e+06</td>\n",
       "      <td>4.446965e+06</td>\n",
       "      <td>4.446965e+06</td>\n",
       "      <td>4.446965e+06</td>\n",
       "      <td>4.446965e+06</td>\n",
       "      <td>4.446965e+06</td>\n",
       "      <td>4.446965e+06</td>\n",
       "      <td>4.446965e+06</td>\n",
       "      <td>4.446965e+06</td>\n",
       "      <td>4.446965e+06</td>\n",
       "      <td>4.446965e+06</td>\n",
       "      <td>4.446965e+06</td>\n",
       "      <td>4.446965e+06</td>\n",
       "      <td>4.446965e+06</td>\n",
       "      <td>4.446965e+06</td>\n",
       "      <td>4.446965e+06</td>\n",
       "      <td>4.446965e+06</td>\n",
       "      <td>4.446965e+06</td>\n",
       "      <td>4.446965e+06</td>\n",
       "      <td>4.446965e+06</td>\n",
       "      <td>4.446965e+06</td>\n",
       "      <td>4.446965e+06</td>\n",
       "      <td>4.446965e+06</td>\n",
       "      <td>4.446965e+06</td>\n",
       "      <td>4.446965e+06</td>\n",
       "      <td>4.446965e+06</td>\n",
       "      <td>4.446965e+06</td>\n",
       "      <td>4.446965e+06</td>\n",
       "      <td>4.446965e+06</td>\n",
       "      <td>4.446965e+06</td>\n",
       "      <td>4.446965e+06</td>\n",
       "      <td>4.446965e+06</td>\n",
       "      <td>4.446965e+06</td>\n",
       "      <td>4.446965e+06</td>\n",
       "      <td>4.446965e+06</td>\n",
       "      <td>4.446965e+06</td>\n",
       "      <td>4.446965e+06</td>\n",
       "      <td>4.446965e+06</td>\n",
       "    </tr>\n",
       "    <tr>\n",
       "      <th>mean</th>\n",
       "      <td>2.338150e-01</td>\n",
       "      <td>1.106908e+00</td>\n",
       "      <td>1.307172e+02</td>\n",
       "      <td>6.578757e-01</td>\n",
       "      <td>2.268196e-01</td>\n",
       "      <td>1.370148e+00</td>\n",
       "      <td>4.759936e+01</td>\n",
       "      <td>5.050062e+02</td>\n",
       "      <td>9.247835e-01</td>\n",
       "      <td>5.439553e-01</td>\n",
       "      <td>2.299760e+01</td>\n",
       "      <td>1.579507e+03</td>\n",
       "      <td>4.450468e+01</td>\n",
       "      <td>4.300760e+01</td>\n",
       "      <td>8.920103e+02</td>\n",
       "      <td>1.646590e-01</td>\n",
       "      <td>6.061158e+02</td>\n",
       "      <td>3.496092e-03</td>\n",
       "      <td>4.509323e+00</td>\n",
       "      <td>2.386841e-02</td>\n",
       "      <td>7.918209e-03</td>\n",
       "      <td>1.154218e+03</td>\n",
       "      <td>3.660488e+00</td>\n",
       "      <td>6.064603e+02</td>\n",
       "      <td>4.728216e-01</td>\n",
       "      <td>1.413773e-03</td>\n",
       "      <td>8.342769e-05</td>\n",
       "      <td>7.051798e-02</td>\n",
       "      <td>2.241284e-01</td>\n",
       "      <td>1.614584e-04</td>\n",
       "      <td>5.633055e-04</td>\n",
       "      <td>4.474962e-05</td>\n",
       "      <td>1.234325e-03</td>\n",
       "      <td>7.330842e-05</td>\n",
       "      <td>3.782355e-04</td>\n",
       "      <td>1.160342e-04</td>\n",
       "      <td>3.861960e-03</td>\n",
       "      <td>4.091397e-02</td>\n",
       "      <td>1.207028e-01</td>\n",
       "      <td>1.408884e-01</td>\n",
       "      <td>3.949179e-01</td>\n",
       "      <td>1.013395e+06</td>\n",
       "      <td>2.397192e+04</td>\n",
       "    </tr>\n",
       "    <tr>\n",
       "      <th>std</th>\n",
       "      <td>5.885731e-01</td>\n",
       "      <td>1.715794e+00</td>\n",
       "      <td>1.707806e+02</td>\n",
       "      <td>1.145743e+00</td>\n",
       "      <td>6.021553e-01</td>\n",
       "      <td>2.679982e+00</td>\n",
       "      <td>2.746293e+01</td>\n",
       "      <td>6.275049e+02</td>\n",
       "      <td>1.558445e+00</td>\n",
       "      <td>7.109721e-01</td>\n",
       "      <td>5.097262e+01</td>\n",
       "      <td>2.587388e+02</td>\n",
       "      <td>2.382810e+01</td>\n",
       "      <td>2.328949e+01</td>\n",
       "      <td>7.366478e+02</td>\n",
       "      <td>4.721671e-01</td>\n",
       "      <td>1.498344e+03</td>\n",
       "      <td>7.337297e-02</td>\n",
       "      <td>3.050220e+01</td>\n",
       "      <td>1.673935e-01</td>\n",
       "      <td>9.261158e-02</td>\n",
       "      <td>1.183497e+03</td>\n",
       "      <td>2.456543e+00</td>\n",
       "      <td>7.397005e+02</td>\n",
       "      <td>3.074050e-01</td>\n",
       "      <td>3.757359e-02</td>\n",
       "      <td>9.133496e-03</td>\n",
       "      <td>2.560180e-01</td>\n",
       "      <td>4.170071e-01</td>\n",
       "      <td>1.270561e-02</td>\n",
       "      <td>2.372738e-02</td>\n",
       "      <td>6.689367e-03</td>\n",
       "      <td>3.511128e-02</td>\n",
       "      <td>8.561721e-03</td>\n",
       "      <td>1.944460e-02</td>\n",
       "      <td>1.077129e-02</td>\n",
       "      <td>6.202456e-02</td>\n",
       "      <td>1.980910e-01</td>\n",
       "      <td>3.257816e-01</td>\n",
       "      <td>3.479065e-01</td>\n",
       "      <td>4.888331e-01</td>\n",
       "      <td>5.849784e+05</td>\n",
       "      <td>1.384761e+04</td>\n",
       "    </tr>\n",
       "    <tr>\n",
       "      <th>min</th>\n",
       "      <td>0.000000e+00</td>\n",
       "      <td>0.000000e+00</td>\n",
       "      <td>0.000000e+00</td>\n",
       "      <td>0.000000e+00</td>\n",
       "      <td>0.000000e+00</td>\n",
       "      <td>0.000000e+00</td>\n",
       "      <td>1.000000e+00</td>\n",
       "      <td>0.000000e+00</td>\n",
       "      <td>0.000000e+00</td>\n",
       "      <td>0.000000e+00</td>\n",
       "      <td>0.000000e+00</td>\n",
       "      <td>1.330000e+02</td>\n",
       "      <td>2.000000e+00</td>\n",
       "      <td>1.000000e+00</td>\n",
       "      <td>-1.000000e+00</td>\n",
       "      <td>0.000000e+00</td>\n",
       "      <td>0.000000e+00</td>\n",
       "      <td>0.000000e+00</td>\n",
       "      <td>0.000000e+00</td>\n",
       "      <td>0.000000e+00</td>\n",
       "      <td>0.000000e+00</td>\n",
       "      <td>0.000000e+00</td>\n",
       "      <td>0.000000e+00</td>\n",
       "      <td>0.000000e+00</td>\n",
       "      <td>0.000000e+00</td>\n",
       "      <td>0.000000e+00</td>\n",
       "      <td>0.000000e+00</td>\n",
       "      <td>0.000000e+00</td>\n",
       "      <td>0.000000e+00</td>\n",
       "      <td>0.000000e+00</td>\n",
       "      <td>0.000000e+00</td>\n",
       "      <td>0.000000e+00</td>\n",
       "      <td>0.000000e+00</td>\n",
       "      <td>0.000000e+00</td>\n",
       "      <td>0.000000e+00</td>\n",
       "      <td>0.000000e+00</td>\n",
       "      <td>0.000000e+00</td>\n",
       "      <td>0.000000e+00</td>\n",
       "      <td>0.000000e+00</td>\n",
       "      <td>0.000000e+00</td>\n",
       "      <td>0.000000e+00</td>\n",
       "      <td>0.000000e+00</td>\n",
       "      <td>0.000000e+00</td>\n",
       "    </tr>\n",
       "    <tr>\n",
       "      <th>25%</th>\n",
       "      <td>0.000000e+00</td>\n",
       "      <td>0.000000e+00</td>\n",
       "      <td>0.000000e+00</td>\n",
       "      <td>0.000000e+00</td>\n",
       "      <td>0.000000e+00</td>\n",
       "      <td>0.000000e+00</td>\n",
       "      <td>2.400000e+01</td>\n",
       "      <td>0.000000e+00</td>\n",
       "      <td>0.000000e+00</td>\n",
       "      <td>0.000000e+00</td>\n",
       "      <td>0.000000e+00</td>\n",
       "      <td>1.367000e+03</td>\n",
       "      <td>2.800000e+01</td>\n",
       "      <td>2.700000e+01</td>\n",
       "      <td>-1.000000e+00</td>\n",
       "      <td>0.000000e+00</td>\n",
       "      <td>0.000000e+00</td>\n",
       "      <td>0.000000e+00</td>\n",
       "      <td>0.000000e+00</td>\n",
       "      <td>0.000000e+00</td>\n",
       "      <td>0.000000e+00</td>\n",
       "      <td>1.551000e+02</td>\n",
       "      <td>2.000000e+00</td>\n",
       "      <td>0.000000e+00</td>\n",
       "      <td>2.000000e-01</td>\n",
       "      <td>0.000000e+00</td>\n",
       "      <td>0.000000e+00</td>\n",
       "      <td>0.000000e+00</td>\n",
       "      <td>0.000000e+00</td>\n",
       "      <td>0.000000e+00</td>\n",
       "      <td>0.000000e+00</td>\n",
       "      <td>0.000000e+00</td>\n",
       "      <td>0.000000e+00</td>\n",
       "      <td>0.000000e+00</td>\n",
       "      <td>0.000000e+00</td>\n",
       "      <td>0.000000e+00</td>\n",
       "      <td>0.000000e+00</td>\n",
       "      <td>0.000000e+00</td>\n",
       "      <td>0.000000e+00</td>\n",
       "      <td>0.000000e+00</td>\n",
       "      <td>0.000000e+00</td>\n",
       "      <td>5.068870e+05</td>\n",
       "      <td>1.198000e+04</td>\n",
       "    </tr>\n",
       "    <tr>\n",
       "      <th>50%</th>\n",
       "      <td>0.000000e+00</td>\n",
       "      <td>0.000000e+00</td>\n",
       "      <td>8.424000e+01</td>\n",
       "      <td>0.000000e+00</td>\n",
       "      <td>0.000000e+00</td>\n",
       "      <td>0.000000e+00</td>\n",
       "      <td>4.700000e+01</td>\n",
       "      <td>0.000000e+00</td>\n",
       "      <td>0.000000e+00</td>\n",
       "      <td>0.000000e+00</td>\n",
       "      <td>0.000000e+00</td>\n",
       "      <td>1.438000e+03</td>\n",
       "      <td>3.000000e+01</td>\n",
       "      <td>3.000000e+01</td>\n",
       "      <td>1.443000e+03</td>\n",
       "      <td>0.000000e+00</td>\n",
       "      <td>0.000000e+00</td>\n",
       "      <td>0.000000e+00</td>\n",
       "      <td>0.000000e+00</td>\n",
       "      <td>0.000000e+00</td>\n",
       "      <td>0.000000e+00</td>\n",
       "      <td>6.856000e+02</td>\n",
       "      <td>3.000000e+00</td>\n",
       "      <td>0.000000e+00</td>\n",
       "      <td>4.583000e-01</td>\n",
       "      <td>0.000000e+00</td>\n",
       "      <td>0.000000e+00</td>\n",
       "      <td>0.000000e+00</td>\n",
       "      <td>0.000000e+00</td>\n",
       "      <td>0.000000e+00</td>\n",
       "      <td>0.000000e+00</td>\n",
       "      <td>0.000000e+00</td>\n",
       "      <td>0.000000e+00</td>\n",
       "      <td>0.000000e+00</td>\n",
       "      <td>0.000000e+00</td>\n",
       "      <td>0.000000e+00</td>\n",
       "      <td>0.000000e+00</td>\n",
       "      <td>0.000000e+00</td>\n",
       "      <td>0.000000e+00</td>\n",
       "      <td>0.000000e+00</td>\n",
       "      <td>0.000000e+00</td>\n",
       "      <td>1.013703e+06</td>\n",
       "      <td>2.397500e+04</td>\n",
       "    </tr>\n",
       "    <tr>\n",
       "      <th>75%</th>\n",
       "      <td>0.000000e+00</td>\n",
       "      <td>2.000000e+00</td>\n",
       "      <td>1.860000e+02</td>\n",
       "      <td>1.000000e+00</td>\n",
       "      <td>0.000000e+00</td>\n",
       "      <td>2.000000e+00</td>\n",
       "      <td>7.100000e+01</td>\n",
       "      <td>1.172000e+03</td>\n",
       "      <td>1.000000e+00</td>\n",
       "      <td>1.000000e+00</td>\n",
       "      <td>2.132000e+01</td>\n",
       "      <td>1.851000e+03</td>\n",
       "      <td>4.900000e+01</td>\n",
       "      <td>4.700000e+01</td>\n",
       "      <td>1.500000e+03</td>\n",
       "      <td>0.000000e+00</td>\n",
       "      <td>1.910000e-01</td>\n",
       "      <td>0.000000e+00</td>\n",
       "      <td>0.000000e+00</td>\n",
       "      <td>0.000000e+00</td>\n",
       "      <td>0.000000e+00</td>\n",
       "      <td>1.976000e+03</td>\n",
       "      <td>5.000000e+00</td>\n",
       "      <td>1.495000e+03</td>\n",
       "      <td>7.407000e-01</td>\n",
       "      <td>0.000000e+00</td>\n",
       "      <td>0.000000e+00</td>\n",
       "      <td>0.000000e+00</td>\n",
       "      <td>0.000000e+00</td>\n",
       "      <td>0.000000e+00</td>\n",
       "      <td>0.000000e+00</td>\n",
       "      <td>0.000000e+00</td>\n",
       "      <td>0.000000e+00</td>\n",
       "      <td>0.000000e+00</td>\n",
       "      <td>0.000000e+00</td>\n",
       "      <td>0.000000e+00</td>\n",
       "      <td>0.000000e+00</td>\n",
       "      <td>0.000000e+00</td>\n",
       "      <td>0.000000e+00</td>\n",
       "      <td>0.000000e+00</td>\n",
       "      <td>1.000000e+00</td>\n",
       "      <td>1.520061e+06</td>\n",
       "      <td>3.596500e+04</td>\n",
       "    </tr>\n",
       "    <tr>\n",
       "      <th>max</th>\n",
       "      <td>2.200000e+01</td>\n",
       "      <td>3.300000e+01</td>\n",
       "      <td>6.616000e+03</td>\n",
       "      <td>5.300000e+01</td>\n",
       "      <td>6.400000e+01</td>\n",
       "      <td>8.000000e+01</td>\n",
       "      <td>1.010000e+02</td>\n",
       "      <td>2.170000e+03</td>\n",
       "      <td>7.200000e+01</td>\n",
       "      <td>2.000000e+01</td>\n",
       "      <td>1.094000e+03</td>\n",
       "      <td>2.237000e+03</td>\n",
       "      <td>1.000000e+02</td>\n",
       "      <td>1.000000e+02</td>\n",
       "      <td>5.910000e+03</td>\n",
       "      <td>3.900000e+01</td>\n",
       "      <td>4.071000e+04</td>\n",
       "      <td>1.800000e+01</td>\n",
       "      <td>3.823000e+03</td>\n",
       "      <td>1.200000e+01</td>\n",
       "      <td>5.000000e+00</td>\n",
       "      <td>2.578000e+04</td>\n",
       "      <td>2.360000e+02</td>\n",
       "      <td>2.013000e+03</td>\n",
       "      <td>1.000000e+00</td>\n",
       "      <td>1.000000e+00</td>\n",
       "      <td>1.000000e+00</td>\n",
       "      <td>1.000000e+00</td>\n",
       "      <td>1.000000e+00</td>\n",
       "      <td>1.000000e+00</td>\n",
       "      <td>1.000000e+00</td>\n",
       "      <td>1.000000e+00</td>\n",
       "      <td>1.000000e+00</td>\n",
       "      <td>1.000000e+00</td>\n",
       "      <td>1.000000e+00</td>\n",
       "      <td>1.000000e+00</td>\n",
       "      <td>1.000000e+00</td>\n",
       "      <td>1.000000e+00</td>\n",
       "      <td>1.000000e+00</td>\n",
       "      <td>1.000000e+00</td>\n",
       "      <td>1.000000e+00</td>\n",
       "      <td>2.026743e+06</td>\n",
       "      <td>4.796300e+04</td>\n",
       "    </tr>\n",
       "  </tbody>\n",
       "</table>\n",
       "</div>"
      ],
      "text/plain": [
       "            assists        boosts      ...        groupId_cat   matchId_cat\n",
       "count  4.446965e+06  4.446965e+06      ...       4.446965e+06  4.446965e+06\n",
       "mean   2.338150e-01  1.106908e+00      ...       1.013395e+06  2.397192e+04\n",
       "std    5.885731e-01  1.715794e+00      ...       5.849784e+05  1.384761e+04\n",
       "min    0.000000e+00  0.000000e+00      ...       0.000000e+00  0.000000e+00\n",
       "25%    0.000000e+00  0.000000e+00      ...       5.068870e+05  1.198000e+04\n",
       "50%    0.000000e+00  0.000000e+00      ...       1.013703e+06  2.397500e+04\n",
       "75%    0.000000e+00  2.000000e+00      ...       1.520061e+06  3.596500e+04\n",
       "max    2.200000e+01  3.300000e+01      ...       2.026743e+06  4.796300e+04\n",
       "\n",
       "[8 rows x 43 columns]"
      ]
     },
     "execution_count": 14,
     "metadata": {},
     "output_type": "execute_result"
    }
   ],
   "source": [
    "train.describe()"
   ]
  },
  {
   "cell_type": "markdown",
   "metadata": {
    "_uuid": "a6967e8dc495ff467ed0551ef53f1aadf195719c"
   },
   "source": [
    "## Exploratory Data Analysis"
   ]
  },
  {
   "cell_type": "code",
   "execution_count": 15,
   "metadata": {
    "_uuid": "5bc33d60c3036d1e36d9bd33f5024dff1d23352d"
   },
   "outputs": [],
   "source": [
    "# Take sample for debugging and exploration\n",
    "sample = 50000\n",
    "df_sample = train.sample(sample)\n",
    "\n",
    "# Split sample into training data and target variable\n",
    "df = df_sample.drop(columns = ['winPlacePerc']) #all columns except target\n",
    "y = df_sample['winPlacePerc'] # Only target variable"
   ]
  },
  {
   "cell_type": "code",
   "execution_count": 16,
   "metadata": {
    "_uuid": "f99a3b6d0cb69d06bb1e34c9704054546e828e87"
   },
   "outputs": [
    {
     "data": {
      "image/png": "[encoded data removed]",
      "text/plain": [
       "<Figure size 792x648 with 2 Axes>"
      ]
     },
     "metadata": {},
     "output_type": "display_data"
    }
   ],
   "source": [
    "# Correlation heatmap\n",
    "corr = df.corr()\n",
    "\n",
    "# Set up the matplotlib figure\n",
    "f, ax = plt.subplots(figsize=(11, 9))\n",
    "\n",
    "# Create heatmap\n",
    "heatmap = sns.heatmap(corr)"
   ]
  },
  {
   "cell_type": "code",
   "execution_count": 17,
   "metadata": {
    "_uuid": "fad029821702706767e7e1a24c8f193c2dcb676d"
   },
   "outputs": [
    {
     "data": {
      "text/plain": [
       "[]"
      ]
     },
     "execution_count": 17,
     "metadata": {},
     "output_type": "execute_result"
    },
    {
     "data": {
      "image/png": "[encoded data removed]",
      "text/plain": [
       "<Figure size 1008x720 with 1 Axes>"
      ]
     },
     "metadata": {},
     "output_type": "display_data"
    }
   ],
   "source": [
    "# Create a Dendrogram to view highly correlated features\n",
    "corr = np.round(scipy.stats.spearmanr(df).correlation, 4)\n",
    "corr_condensed = hc.distance.squareform(1-corr)\n",
    "z = hc.linkage(corr_condensed, method='average')\n",
    "fig = plt.figure(figsize=(14,10))\n",
    "dendrogram = hc.dendrogram(z, labels=df.columns, orientation='left', leaf_font_size=16)\n",
    "plt.plot()"
   ]
  },
  {
   "cell_type": "markdown",
   "metadata": {
    "_uuid": "56ad1edf07e4207b6e421f344329e4e30f8804a6"
   },
   "source": [
    "## Preprocessing "
   ]
  },
  {
   "cell_type": "code",
   "execution_count": 4,
   "metadata": {
    "_uuid": "df97a5529ba5eed6cb90be3587553be859d82e98"
   },
   "outputs": [
    {
     "ename": "TypeError",
     "evalue": "drop() got an unexpected keyword argument 'columns'",
     "output_type": "error",
     "traceback": [
      "\u001b[1;31m---------------------------------------------------------------------------\u001b[0m",
      "\u001b[1;31mTypeError\u001b[0m                                 Traceback (most recent call last)",
      "\u001b[1;32m<ipython-input-4-3764b699d75e>\u001b[0m in \u001b[0;36m<module>\u001b[1;34m\u001b[0m\n\u001b[0;32m      5\u001b[0m \u001b[0mX_test\u001b[0m \u001b[1;33m=\u001b[0m \u001b[0mpd\u001b[0m\u001b[1;33m.\u001b[0m\u001b[0mread_csv\u001b[0m\u001b[1;33m(\u001b[0m\u001b[1;34m'../input/test_V2.csv'\u001b[0m\u001b[1;33m)\u001b[0m\u001b[1;33m\u001b[0m\u001b[1;33m\u001b[0m\u001b[0m\n\u001b[0;32m      6\u001b[0m \u001b[1;31m# Remove Id, which is not a useful feature\u001b[0m\u001b[1;33m\u001b[0m\u001b[1;33m\u001b[0m\u001b[1;33m\u001b[0m\u001b[0m\n\u001b[1;32m----> 7\u001b[1;33m \u001b[0mtrain\u001b[0m\u001b[1;33m.\u001b[0m\u001b[0mdrop\u001b[0m\u001b[1;33m(\u001b[0m\u001b[0mcolumns\u001b[0m\u001b[1;33m=\u001b[0m\u001b[1;33m[\u001b[0m\u001b[1;34m'Id'\u001b[0m\u001b[1;33m]\u001b[0m\u001b[1;33m,\u001b[0m \u001b[0minplace\u001b[0m\u001b[1;33m=\u001b[0m\u001b[1;32mTrue\u001b[0m\u001b[1;33m)\u001b[0m\u001b[1;33m\u001b[0m\u001b[1;33m\u001b[0m\u001b[0m\n\u001b[0m\u001b[0;32m      8\u001b[0m \u001b[0mtrain\u001b[0m \u001b[1;33m=\u001b[0m \u001b[0mtrain\u001b[0m\u001b[1;33m.\u001b[0m\u001b[0mdropna\u001b[0m\u001b[1;33m(\u001b[0m\u001b[1;33m)\u001b[0m\u001b[1;33m\u001b[0m\u001b[1;33m\u001b[0m\u001b[0m\n\u001b[0;32m      9\u001b[0m \u001b[1;31m# One hot encode matchType\u001b[0m\u001b[1;33m\u001b[0m\u001b[1;33m\u001b[0m\u001b[1;33m\u001b[0m\u001b[0m\n",
      "\u001b[1;31mTypeError\u001b[0m: drop() got an unexpected keyword argument 'columns'"
     ]
    }
   ],
   "source": [
    "#Import data\n",
    "train = pd.read_csv('../input/train_V2.csv')\n",
    "\n",
    "# train = train.sample(50000)\n",
    "X_test = pd.read_csv('../input/test_V2.csv')\n",
    "# Remove Id, which is not a useful feature\n",
    "train.drop(columns=['Id'], inplace=True)\n",
    "train = train.dropna()\n",
    "# One hot encode matchType\n",
    "train = pd.get_dummies(train, columns=['matchType'])\n",
    "X_test = pd.get_dummies(X_test, columns=['matchType'])\n",
    "# Turn groupId and match Id into categorical types\n",
    "train['groupId'] = train['groupId'].astype('category')\n",
    "train['matchId'] = train['matchId'].astype('category')\n",
    "X_test['groupId'] = X_test['groupId'].astype('category')\n",
    "X_test['matchId'] = X_test['matchId'].astype('category')\n",
    "\n",
    "# Get category coding for groupId and matchID\n",
    "train['groupId_cat'] = train['groupId'].cat.codes\n",
    "train['matchId_cat'] = train['matchId'].cat.codes\n",
    "X_test['groupId_cat'] = X_test['groupId'].cat.codes\n",
    "X_test['matchId_cat'] = X_test['matchId'].cat.codes\n",
    "\n",
    "# Get rid of old columns\n",
    "train.drop(columns=['groupId', 'matchId'], inplace=True)\n",
    "X_test.drop(columns=['groupId', 'matchId'], inplace=True)"
   ]
  },
  {
   "cell_type": "code",
   "execution_count": null,
   "metadata": {
    "_uuid": "0d1f33310b527ab9c60a33676c9c5fb409afe674"
   },
   "outputs": [],
   "source": [
    "# Split train into features and target variable\n",
    "X_train = train.drop(columns = ['winPlacePerc']) #all columns except target\n",
    "Y = train['winPlacePerc'] # Only target variable\n",
    "Y = Y.astype('float32')\n",
    "x_train, x_val, y_train, y_val = sklearn.model_selection.train_test_split(X_train, Y, random_state=0, test_size=0.3)"
   ]
  },
  {
   "cell_type": "code",
   "execution_count": null,
   "metadata": {
    "_uuid": "510d1ea04696ae532fcb120f23221e05c73dfcfb"
   },
   "outputs": [],
   "source": [
    "#Standard scaling train features to have 0 mean and 1 variance\n",
    "columns_to_scale = ['assists', 'boosts', 'damageDealt', 'DBNOs', 'headshotKills', 'heals',\n",
    "       'killPlace', 'killPoints', 'kills', 'killStreaks', 'longestKill',\n",
    "       'matchDuration', 'maxPlace', 'numGroups', 'rankPoints', 'revives',\n",
    "       'rideDistance', 'roadKills', 'swimDistance', 'teamKills',\n",
    "       'vehicleDestroys', 'walkDistance', 'weaponsAcquired', 'winPoints']\n",
    "categorical  = ['matchType_crashfpp', 'matchType_crashtpp', 'matchType_duo',\n",
    "       'matchType_duo-fpp', 'matchType_flarefpp', 'matchType_flaretpp',\n",
    "       'matchType_normal-duo', 'matchType_normal-duo-fpp',\n",
    "       'matchType_normal-solo', 'matchType_normal-solo-fpp',\n",
    "       'matchType_normal-squad', 'matchType_normal-squad-fpp',\n",
    "       'matchType_solo', 'matchType_solo-fpp', 'matchType_squad',\n",
    "       'matchType_squad-fpp', 'groupId_cat', 'matchId_cat']\n",
    "train_scale = x_train[columns_to_scale]\n",
    "train_categorical = x_train[categorical]\n",
    "val_scale = x_val[columns_to_scale]\n",
    "val_categorical = x_val[categorical]\n",
    "test_scale = X_test[columns_to_scale]\n",
    "test_categorical = X_test[categorical]\n",
    "# print(df_scale.shape)\n",
    "# print(df_categorical.shape)\n",
    "scaler = sklearn.preprocessing.StandardScaler()\n",
    "scaler.fit(train_scale.values)\n",
    "\n",
    "#Standard scaling train features to have 0 mean and 1 variance\n",
    "train_scale = pd.DataFrame(scaler.transform(train_scale.values), index=train_scale.index, columns=train_scale.columns)\n",
    "# print(df_scale.shape)\n",
    "x_train = pd.concat([train_scale, train_categorical],axis=1)\n",
    "\n",
    "#Standard scaling val features with the same parameters in train data\n",
    "val_scale = pd.DataFrame(scaler.transform(val_scale.values), index=val_scale.index, columns=val_scale.columns)\n",
    "# print(df_scale.shape)\n",
    "x_val = pd.concat([val_scale, val_categorical],axis=1)\n",
    "\n",
    "#Standard scaling test features with the same parameters in train data\n",
    "test_scale = pd.DataFrame(scaler.transform(test_scale.values), index=test_scale.index, columns=test_scale.columns)\n",
    "# print(df_scale.shape)\n",
    "\n",
    "test_id = X_test.loc[:, ['Id']]\n",
    "X_test = pd.concat([test_scale, test_categorical],axis=1)"
   ]
  },
  {
   "cell_type": "markdown",
   "metadata": {
    "_uuid": "b71d9a3ca906ed13804f4414031e2373ef301d80"
   },
   "source": [
    "## Reducing Memory"
   ]
  },
  {
   "cell_type": "code",
   "execution_count": null,
   "metadata": {
    "_uuid": "a8728baaa1d750d9c64d978fd1b49e01130fba9f"
   },
   "outputs": [],
   "source": [
    "# Thanks and credited to https://www.kaggle.com/gemartin who created this wonderful mem reducer\n",
    "def reduce_mem_usage(df):\n",
    "    \"\"\" iterate through all the columns of a dataframe and modify the data type\n",
    "        to reduce memory usage.        \n",
    "    \"\"\"\n",
    "    start_mem = df.memory_usage().sum() \n",
    "    print('Memory usage of dataframe is {:.2f} MB'.format(start_mem))\n",
    "    \n",
    "    for col in df.columns:\n",
    "        col_type = df[col].dtype\n",
    "        \n",
    "        if col_type != object:\n",
    "            c_min = df[col].min()\n",
    "            c_max = df[col].max()\n",
    "            if str(col_type)[:3] == 'int':\n",
    "                if c_min > np.iinfo(np.int8).min and c_max < np.iinfo(np.int8).max:\n",
    "                    df[col] = df[col].astype(np.int8)\n",
    "                elif c_min > np.iinfo(np.int16).min and c_max < np.iinfo(np.int16).max:\n",
    "                    df[col] = df[col].astype(np.int16)\n",
    "                elif c_min > np.iinfo(np.int32).min and c_max < np.iinfo(np.int32).max:\n",
    "                    df[col] = df[col].astype(np.int32)\n",
    "                elif c_min > np.iinfo(np.int64).min and c_max < np.iinfo(np.int64).max:\n",
    "                    df[col] = df[col].astype(np.int64)  \n",
    "            else:\n",
    "                if c_min > np.finfo(np.float16).min and c_max < np.finfo(np.float16).max:\n",
    "                    df[col] = df[col].astype(np.float16)\n",
    "                elif c_min > np.finfo(np.float32).min and c_max < np.finfo(np.float32).max:\n",
    "                    df[col] = df[col].astype(np.float32)\n",
    "                else:\n",
    "                    df[col] = df[col].astype(np.float64)\n",
    "        else:\n",
    "            df[col] = df[col].astype('category')\n",
    "\n",
    "    end_mem = df.memory_usage().sum() \n",
    "    print('Memory usage after optimization is: {:.2f} MB'.format(end_mem))\n",
    "    print('Decreased by {:.1f}%'.format(100 * (start_mem - end_mem) / start_mem))\n",
    "    \n",
    "    return df\n",
    "\n",
    "x_train = reduce_mem_usage(x_train)\n",
    "x_val = reduce_mem_usage(x_val)\n",
    "X_test = reduce_mem_usage(X_test)"
   ]
  },
  {
   "cell_type": "markdown",
   "metadata": {
    "_uuid": "3977102fb37c5c34fe8a6194022c233ff7fa5289"
   },
   "source": [
    "## Baseline: Linear Regression"
   ]
  },
  {
   "cell_type": "code",
   "execution_count": null,
   "metadata": {
    "_uuid": "a983bc986a6cd319540e85fae984195e4208315b"
   },
   "outputs": [],
   "source": [
    "# from sklearn.linear_model import LinearRegression\n",
    "reg = sklearn.linear_model.LinearRegression().fit(x_train, y_train)\n",
    "pred_train = reg.predict(x_train)\n",
    "pred_val = reg.predict(x_val)\n",
    "mae_train = sklearn.metrics.mean_absolute_error(pred_train, y_train)\n",
    "mae_val = sklearn.metrics.mean_absolute_error(pred_val, y_val)\n",
    "print('MAE train: ', mae_train)\n",
    "print('MAE val: ', mae_val)"
   ]
  },
  {
   "cell_type": "markdown",
   "metadata": {
    "_uuid": "20f74daa748d3f02fd12afbd958b19ff661dcc29"
   },
   "source": [
    "## Boosted Trees Regressor"
   ]
  },
  {
   "cell_type": "code",
   "execution_count": 9,
   "metadata": {
    "_uuid": "d60e648101061338295cbb8ea4401c03303bc874"
   },
   "outputs": [],
   "source": [
    "trees = GradientBoostingRegressor(alpha=0.9, criterion='friedman_mse', init=None,\n",
    "             learning_rate=1, loss='ls', max_depth=3, max_features=None,\n",
    "             max_leaf_nodes=None, min_impurity_decrease=0.0,\n",
    "             min_impurity_split=None, min_samples_leaf=1,\n",
    "             min_samples_split=2, min_weight_fraction_leaf=0.0,\n",
    "             n_estimators=10, presort='auto', random_state=None,\n",
    "             subsample=1.0, verbose=0, warm_start=False)"
   ]
  },
  {
   "cell_type": "code",
   "execution_count": null,
   "metadata": {
    "_uuid": "5e4333b79cb45fa52d9dbaaf257a7c4ab9e7c476"
   },
   "outputs": [],
   "source": [
    "trees.fit(x_train, y_train)\n",
    "y_pred = trees.predict(x_val)\n",
    "mae = sklearn.metrics.mean_absolute_error(y_pred, y_val)\n",
    "mae"
   ]
  },
  {
   "cell_type": "code",
   "execution_count": 97,
   "metadata": {
    "_uuid": "ae2314ea47a64277f83e57b4677ec4ba9fe9dbf4"
   },
   "outputs": [
    {
     "name": "stderr",
     "output_type": "stream",
     "text": [
      "/opt/conda/lib/python3.6/site-packages/sklearn/ensemble/forest.py:246: FutureWarning: The default value of n_estimators will change from 10 in version 0.20 to 100 in 0.22.\n",
      "  \"10 in version 0.20 to 100 in 0.22.\", FutureWarning)\n"
     ]
    },
    {
     "data": {
      "text/plain": [
       "0.06327742970963908"
      ]
     },
     "execution_count": 97,
     "metadata": {},
     "output_type": "execute_result"
    }
   ],
   "source": [
    "rtrees = RandomForestRegressor()\n",
    "rtrees.fit(x_train, y_train)\n",
    "y_pred = rtrees.predict(x_val)\n",
    "mae = sklearn.metrics.mean_absolute_error(y_pred, y_val)\n",
    "mae"
   ]
  },
  {
   "cell_type": "code",
   "execution_count": null,
   "metadata": {
    "_uuid": "07731dbd399c840e19bbac4eaac947861c8b571f"
   },
   "outputs": [],
   "source": []
  },
  {
   "cell_type": "code",
   "execution_count": 32,
   "metadata": {
    "_uuid": "b3df118ef7a7cfcb2c7938c3aa5a3f85e832b4a3"
   },
   "outputs": [],
   "source": []
  },
  {
   "cell_type": "code",
   "execution_count": 33,
   "metadata": {
    "_uuid": "2e958b969b51fb990f22f63a754442c927466367"
   },
   "outputs": [],
   "source": []
  },
  {
   "cell_type": "code",
   "execution_count": 34,
   "metadata": {
    "_uuid": "0c2a54e3de0b565ab1c2046ec9d240cd5cb025f2"
   },
   "outputs": [
    {
     "data": {
      "text/plain": [
       "0.1018019965607521"
      ]
     },
     "execution_count": 34,
     "metadata": {},
     "output_type": "execute_result"
    }
   ],
   "source": []
  },
  {
   "cell_type": "markdown",
   "metadata": {
    "_uuid": "1748e2b5ae60e155646b16ea0f8f00484aacfeb6"
   },
   "source": [
    "## Keras"
   ]
  },
  {
   "cell_type": "code",
   "execution_count": 35,
   "metadata": {
    "_uuid": "638b603107f6e9c3a355c5c9a0faee087b81f44d"
   },
   "outputs": [],
   "source": [
    "# BATCH_SIZE = 256\n",
    "# EPOCHS = 50\n",
    "# LEARNING_RATE = 0.001\n",
    "\n",
    "# model = Sequential()\n",
    "# model.add(Dense(128, activation='relu', input_dim=x_train.shape[1], activity_regularizer=regularizers.l1(0.01)))\n",
    "# # model.add(BatchNormalization())\n",
    "# # model.add(Dense(128, activation='relu'))\n",
    "# # model.add(BatchNormalization())\n",
    "# # model.add(Dense(64, activation='relu'))\n",
    "# # model.add(BatchNormalization())\n",
    "# # model.add(Dense(32, activation='relu'))\n",
    "# # model.add(BatchNormalization())\n",
    "# model.add(Dense(8, activation='relu'))\n",
    "# model.add(BatchNormalization())\n",
    "# model.add(Dense(1))\n",
    "\n",
    "# adam = optimizers.adam(lr=LEARNING_RATE)\n",
    "# model.compile(loss='mse', optimizer=adam, metrics=['mae'])"
   ]
  },
  {
   "cell_type": "code",
   "execution_count": 36,
   "metadata": {
    "_uuid": "b849a0e6cefcec6c510faf5754e4cd40511e8221"
   },
   "outputs": [],
   "source": [
    "# model.summary()"
   ]
  },
  {
   "cell_type": "code",
   "execution_count": 37,
   "metadata": {
    "_uuid": "53254284bd5b9f79833d3015e98a64c6a68239d5"
   },
   "outputs": [],
   "source": [
    "# history = model.fit(x=x_train, y=y_train, batch_size=BATCH_SIZE, epochs=20, \n",
    "#                     verbose=1, validation_data=(x_val,y_val), \n",
    "#                     shuffle=True)"
   ]
  },
  {
   "cell_type": "code",
   "execution_count": 38,
   "metadata": {
    "_uuid": "bd37ab06148900bcbf7d78ad54ee1d25ce67a6eb"
   },
   "outputs": [],
   "source": [
    "# def plot_loss_accuracy(history):\n",
    "#     plt.figure(figsize=(10,10))\n",
    "#     plt.plot(history.history['loss'])\n",
    "#     plt.plot(history.history['val_loss'])\n",
    "#     plt.title('model loss')\n",
    "#     plt.ylabel('loss')\n",
    "#     plt.xlabel('epoch')\n",
    "#     plt.legend(['train', 'test'], loc='upper right')\n",
    "#     plt.show()\n",
    "# plot_loss_accuracy(history)"
   ]
  },
  {
   "cell_type": "code",
   "execution_count": 39,
   "metadata": {
    "_uuid": "e84311aa9e57154943c31262ef1f5b79ead5f228"
   },
   "outputs": [],
   "source": [
    "# X_test.shape"
   ]
  },
  {
   "cell_type": "code",
   "execution_count": 40,
   "metadata": {
    "_uuid": "2d1cd78fc809c0d8785d2431e5437610f8f58158"
   },
   "outputs": [],
   "source": [
    "# prediction = model.predict(X_test, batch_size=128, verbose=1)"
   ]
  },
  {
   "cell_type": "code",
   "execution_count": 41,
   "metadata": {
    "_uuid": "04e6f0aec9d02de6ee62329dd4b70ce8cc744795"
   },
   "outputs": [],
   "source": [
    "# prediction = prediction.flatten()"
   ]
  },
  {
   "cell_type": "code",
   "execution_count": 42,
   "metadata": {
    "_uuid": "da351aa7ca442394ece598b9d38a5af9b014cc9b"
   },
   "outputs": [],
   "source": [
    "# prediction.shape"
   ]
  },
  {
   "cell_type": "code",
   "execution_count": 43,
   "metadata": {
    "_uuid": "cff1a0c595e60b5333084ba51af533062c6ea72a"
   },
   "outputs": [],
   "source": [
    "# pred_df = pd.DataFrame({'Id' : test_id['Id'], 'winPlacePerc' : prediction})\n",
    "\n",
    "# # Create submission file\n",
    "# pred_df.to_csv(\"submission.csv\", index=False)"
   ]
  },
  {
   "cell_type": "code",
   "execution_count": null,
   "metadata": {
    "_uuid": "ee7c226ca610ef7c3bef4c166cb53864dc5ddd79"
   },
   "outputs": [],
   "source": []
  },
  {
   "cell_type": "markdown",
   "metadata": {
    "_uuid": "d9997fbf909f1a47c0415a35b030dd8db4881a8e"
   },
   "source": [
    "## Deep Neural Network"
   ]
  },
  {
   "cell_type": "code",
   "execution_count": 44,
   "metadata": {
    "_uuid": "9b9075a00106c96279699015ca95fddfe7227fcb"
   },
   "outputs": [],
   "source": [
    "# # Model parameters\n",
    "# BATCH_SIZE = 512\n",
    "# STEPS = 40000\n",
    "# LEARNING_RATE = 0.001\n",
    "# HIDDEN_UNITS = [256, 128, 64, 32]"
   ]
  },
  {
   "cell_type": "code",
   "execution_count": null,
   "metadata": {
    "_uuid": "88150df9e2342436e39655864e8612622cdf4394"
   },
   "outputs": [],
   "source": []
  },
  {
   "cell_type": "code",
   "execution_count": 45,
   "metadata": {
    "_uuid": "c1d97e83b5bb02366d15d82c0a2a7e0c8b3dc7cd"
   },
   "outputs": [],
   "source": [
    "# feature_columns = [tf.feature_column.numeric_column(x) for x in x_train.columns]\n",
    "\n",
    "# train_fn = tf.estimator.inputs.pandas_input_fn(x_train, y_train, shuffle = True)\n",
    "# val_fn = tf.estimator.inputs.pandas_input_fn(x_val, y_val, shuffle = False)\n",
    "# test_fn = tf.estimator.inputs.pandas_input_fn(X_test, None, shuffle = False)"
   ]
  },
  {
   "cell_type": "code",
   "execution_count": null,
   "metadata": {
    "_uuid": "8b0d97c0bd3ba366b82187b02b31041109ad65cc"
   },
   "outputs": [],
   "source": []
  },
  {
   "cell_type": "code",
   "execution_count": 46,
   "metadata": {
    "_uuid": "8aee69eacc65c7ef66f316c5f9f99cfed7a88394"
   },
   "outputs": [],
   "source": [
    "# # optimizer = tf.train.AdamOptimizer(learning_rate=LEARNING_RATE)\n",
    "# optimizer = tf.train.ProximalAdagradOptimizer(learning_rate=0.1, l1_regularization_strength=0.001, l2_regularization_strength=0.001)\n",
    "# estimator = tf.estimator.DNNLinearCombinedRegressor(\n",
    "#     dnn_feature_columns=feature_columns,\n",
    "#     dnn_hidden_units=HIDDEN_UNITS,\n",
    "#     dnn_optimizer=optimizer)\n",
    "# train_spec = tf.estimator.TrainSpec(train_fn, max_steps=STEPS)\n",
    "# eval_spec = tf.estimator.EvalSpec(val_fn, steps=500, throttle_secs=300)"
   ]
  },
  {
   "cell_type": "code",
   "execution_count": 47,
   "metadata": {
    "_uuid": "db9b460a1366f163b2fa46f7aea5df5d7f04c872"
   },
   "outputs": [],
   "source": [
    "# tf.estimator.train_and_evaluate(estimator, train_spec=train_spec, eval_spec=eval_spec)"
   ]
  },
  {
   "cell_type": "code",
   "execution_count": 48,
   "metadata": {
    "_uuid": "e3d66182921ed649864df286da698ae9a196e15e"
   },
   "outputs": [],
   "source": [
    "# prediction = estimator.predict(test_fn)"
   ]
  },
  {
   "cell_type": "code",
   "execution_count": 49,
   "metadata": {
    "_uuid": "30eb3f49bb12417ed226bdc7558e2a551743b673"
   },
   "outputs": [],
   "source": [
    "# prediction_df = pd.DataFrame(prediction)"
   ]
  },
  {
   "cell_type": "code",
   "execution_count": 50,
   "metadata": {
    "_uuid": "7564aa8d457629b83736a9250c6a90e1b8fe3df0"
   },
   "outputs": [],
   "source": [
    "# prediction_df.values.flatten()"
   ]
  },
  {
   "cell_type": "code",
   "execution_count": 51,
   "metadata": {
    "_uuid": "30a9520d0394122096fd37010c667a62142cbaaa"
   },
   "outputs": [],
   "source": [
    "# pred_df = pd.DataFrame({'Id' : test_id['Id'], 'winPlacePerc' : prediction_df.values.flatten()})\n",
    "\n",
    "# # Create submission file\n",
    "# pred_df.to_csv(\"submission.csv\", index=False)"
   ]
  },
  {
   "cell_type": "code",
   "execution_count": 52,
   "metadata": {
    "_uuid": "cc1821e2371247f4249cf4e1ae5f1f8ea65671c4"
   },
   "outputs": [],
   "source": [
    "# def mae(labels, predictions):\n",
    "#     pred_values = predictions['predictions']\n",
    "# #     print type(pred_values)\n",
    "#     return {'mae': tf.metrics.mean_absolute_error(labels, pred_values)}"
   ]
  },
  {
   "cell_type": "code",
   "execution_count": 53,
   "metadata": {
    "_uuid": "b4e7f49763bd2d7274a5f529a021800a7ad48da2"
   },
   "outputs": [],
   "source": [
    "# DNN = tf.estimator.DNNRegressor(\n",
    "#     feature_columns=feature_columns,\n",
    "#     hidden_units=[2048, 1024,256, 128, 64, 32,4,1],\n",
    "#     dropout = 0.1,\n",
    "#     optimizer=tf.train.ProximalAdagradOptimizer(\n",
    "#       learning_rate=0.1,\n",
    "#       l1_regularization_strength=0.001\n",
    "#     ))\n",
    "# DNN = tf.contrib.estimator.add_metrics(DNN, mae)"
   ]
  },
  {
   "cell_type": "code",
   "execution_count": 54,
   "metadata": {
    "_uuid": "01f9bc2e8e2d5ee9d3a0ccacfd0606fc5b7ac4ce"
   },
   "outputs": [],
   "source": [
    "# DNN.train(train_fn)"
   ]
  },
  {
   "cell_type": "code",
   "execution_count": 55,
   "metadata": {
    "_uuid": "fa4c96cbfcec6d659c63f6bae375a24aaa5f3fcd"
   },
   "outputs": [],
   "source": [
    "# DNN.evaluate(val_fn)"
   ]
  },
  {
   "cell_type": "code",
   "execution_count": 56,
   "metadata": {
    "_uuid": "9003cde4e6ce4d119351152fa3573116513044e1"
   },
   "outputs": [],
   "source": [
    "# predictions = np.array([item['predictions'][0] for item in preds]).astype(np.float64)"
   ]
  },
  {
   "cell_type": "code",
   "execution_count": 57,
   "metadata": {
    "_uuid": "f0e3073998904f05b1dedf538cf763e6da386a7d"
   },
   "outputs": [],
   "source": [
    "# yvalnp = np.array(y_val)"
   ]
  },
  {
   "cell_type": "code",
   "execution_count": 58,
   "metadata": {
    "_uuid": "f8c504bd3dcb4d97f88566c1261440e71d5e5e5a"
   },
   "outputs": [],
   "source": [
    "# type(yvalnp[0])"
   ]
  },
  {
   "cell_type": "code",
   "execution_count": 59,
   "metadata": {
    "_uuid": "366ea647514d9a1bfec092772b3b0b105464bf64"
   },
   "outputs": [],
   "source": [
    "# type(predictions)"
   ]
  },
  {
   "cell_type": "code",
   "execution_count": null,
   "metadata": {
    "_uuid": "ac38aee42c29c33a1246fe35511bf4e14245f728"
   },
   "outputs": [],
   "source": []
  },
  {
   "cell_type": "code",
   "execution_count": 60,
   "metadata": {
    "_uuid": "35123b294e0496ede1c0d822e91cbe70e116691d"
   },
   "outputs": [],
   "source": [
    "# mae = sklearn.metrics.mean_absolute_error(yvalnp, predictions)"
   ]
  },
  {
   "cell_type": "code",
   "execution_count": 61,
   "metadata": {
    "_uuid": "262efe2bc7672fbaf370544f35446e0afc5b91ae"
   },
   "outputs": [],
   "source": [
    "# mae"
   ]
  },
  {
   "cell_type": "code",
   "execution_count": 103,
   "metadata": {
    "_uuid": "a76414a4c31fb59645dcf58785833d304d81d7ca"
   },
   "outputs": [],
   "source": []
  },
  {
   "cell_type": "markdown",
   "metadata": {
    "_uuid": "209b2d13607a397dca2d93ebf387096534f6da1e"
   },
   "source": [
    "## XGBoost"
   ]
  },
  {
   "cell_type": "code",
   "execution_count": 135,
   "metadata": {
    "_kg_hide-input": false,
    "_kg_hide-output": false,
    "_uuid": "2e68bd98582fba700085345336729bfba636a8a6",
    "scrolled": false
   },
   "outputs": [
    {
     "name": "stdout",
     "output_type": "stream",
     "text": [
      "*******************************CV with param eta *******************************************\n"
     ]
    },
    {
     "name": "stderr",
     "output_type": "stream",
     "text": [
      "/opt/conda/lib/python3.6/site-packages/ipykernel_launcher.py:54: FutureWarning: 'argmin' is deprecated, use 'idxmin' instead. The behavior of 'argmin'\n",
      "will be corrected to return the positional minimum in the future.\n",
      "Use 'series.values.argmin' to get the position of the minimum now.\n"
     ]
    },
    {
     "name": "stdout",
     "output_type": "stream",
     "text": [
      "MAE 0.260664 for 0 rounds\n",
      "MAE 0.256305 for 0 rounds\n",
      "MAE 0.25196099999999994 for 0 rounds\n",
      "MAE 0.24762933333333334 for 0 rounds\n",
      "MAE 0.2433173333333333 for 0 rounds\n",
      "MAE 0.2390306666666667 for 0 rounds\n",
      "MAE 0.23476466666666665 for 0 rounds\n",
      "MAE 0.23052166666666665 for 0 rounds\n",
      "MAE 0.226294 for 0 rounds\n",
      "MAE 0.22208433333333333 for 0 rounds\n",
      "MAE 0.21789999999999998 for 0 rounds\n",
      "MAE 0.21374466666666667 for 0 rounds\n",
      "MAE 0.209623 for 0 rounds\n",
      "*******************************CV with param max_depth *******************************************\n",
      "MAE 0.22226033333333337 for 0 rounds\n",
      "MAE 0.21347466666666667 for 0 rounds\n",
      "MAE 0.209623 for 0 rounds\n",
      "MAE 0.20780500000000002 for 0 rounds\n",
      "MAE 0.205628 for 0 rounds\n",
      "*******************************CV with param min_child_weight *******************************************\n",
      "MAE 0.205628 for 0 rounds\n",
      "MAE 0.205628 for 0 rounds\n",
      "MAE 0.205628 for 0 rounds\n",
      "MAE 0.205628 for 0 rounds\n",
      "MAE 0.205628 for 0 rounds\n",
      "*******************************CV with param subsample *******************************************\n",
      "MAE 0.2693986666666666 for 0 rounds\n",
      "MAE 0.21034466666666665 for 0 rounds\n",
      "MAE 0.205628 for 0 rounds\n",
      "*******************************CV with param lambda *******************************************\n",
      "MAE 0.205628 for 0 rounds\n",
      "MAE 0.206915 for 0 rounds\n",
      "MAE 0.24094466666666667 for 0 rounds\n",
      "MAE 0.269205 for 0 rounds\n",
      "MAE 0.26939833333333335 for 0 rounds\n",
      "*******************************CV with param alpha *******************************************\n",
      "MAE 0.26939833333333335 for 0 rounds\n",
      "MAE 0.26939833333333335 for 0 rounds\n",
      "MAE 0.2693986666666666 for 0 rounds\n",
      "MAE 0.2693986666666666 for 0 rounds\n",
      "MAE 0.2693986666666666 for 0 rounds\n",
      "Best params: {'max_depth': 5, 'subsample': 1, 'eta': 0.27999999999999997}, MAE: 0.205628\n"
     ]
    }
   ],
   "source": [
    "#Cross-validation\n",
    "params = {\n",
    "    # Parameters that we are going to tune.\n",
    "    'eta':.01, #Result of tuning with CV\n",
    "    'max_depth': 3, #Result of tuning with CV\n",
    "    'subsample': 1, #Result of tuning with CV\n",
    "    'colsample_bytree': 0.5, #Result of tuning with CV\n",
    "    # Other parameters\n",
    "    'objective':'reg:linear',\n",
    "    'eval_metric':'mae',\n",
    "    'silent': 1\n",
    "}\n",
    "\n",
    "#Block of code used for hypertuning parameters. Adapt to each round of parameter tuning.\n",
    "#Turn off CV in submission\n",
    "CV=True\n",
    "if CV:\n",
    "    dtrain = xgb.DMatrix(x_train,label=y_train)\n",
    "    gridsearch_params = {\n",
    "        'eta': [(eta) for eta in np.arange(.04, 0.3, .02)],\n",
    "        'max_depth': [(max_depth) for max_depth in np.arange(1,6,1)],\n",
    "        'min_child_weight': [(min_child_weight) for min_child_weight in np.arange(1,6,1)],\n",
    "        'subsample': [(subsample) for subsample in np.arange(0,1.1,0.5)],\n",
    "        'lambda': [(lambd) for lambd in np.logspace(0.01,10,num=5)],\n",
    "        'alpha': [(alpha) for alpha in np.logspace(0.01,10,num=5)]\n",
    "    }\n",
    "\n",
    "    # Define initial best params and MAE\n",
    "    min_mae = float(\"Inf\")\n",
    "    best_params = {}\n",
    "    \n",
    "    #searching for best eta\n",
    "    for param in gridsearch_params:\n",
    "        print(\"*******************************CV with param {} *******************************************\".format(\n",
    "                                 param))\n",
    "        for i in gridsearch_params[param]:\n",
    "            \n",
    "            # Update our parameters\n",
    "            params[param] = i\n",
    "\n",
    "            # Run CV\n",
    "            cv_results = xgb.cv(\n",
    "                params,\n",
    "                dtrain,\n",
    "                num_boost_round=1,\n",
    "                nfold=3,\n",
    "                metrics={'mae'},\n",
    "                early_stopping_rounds=10\n",
    "            )\n",
    "#             for result in cv_results:\n",
    "#                 print(cv_results[result])\n",
    "            # Update best MAE\n",
    "            mean_mae = cv_results['test-mae-mean'].min()\n",
    "            boost_rounds = cv_results['test-mae-mean'].argmin()\n",
    "            print(\"MAE {} for {} rounds\".format(mean_mae, boost_rounds+1))\n",
    "            if mean_mae < min_mae:\n",
    "                min_mae = mean_mae\n",
    "                for k in set(gridsearch_params).intersection(set(params)):\n",
    "                    best_params[k] = params[k]\n",
    "                \n",
    "    \n",
    "    print(\"Best params: {}, MAE: {}\".format(best_params, min_mae))\n",
    "else:\n",
    "    #Print final params to use for the model\n",
    "    params['silent'] = 0 #Turn on output\n",
    "    print(params)"
   ]
  },
  {
   "cell_type": "code",
   "execution_count": 106,
   "metadata": {
    "_uuid": "2744aca58fed69ca7514ddb342f58811359500d5"
   },
   "outputs": [
    {
     "data": {
      "text/plain": [
       "{'max_depth': 3,\n",
       " 'eta': 0.09999999999999999,\n",
       " 'subsample': 1,\n",
       " 'colsample_bytree': 0.5,\n",
       " 'objective': 'reg:linear',\n",
       " 'eval_metric': 'mae',\n",
       " 'silent': 1}"
      ]
     },
     "execution_count": 106,
     "metadata": {},
     "output_type": "execute_result"
    }
   ],
   "source": [
    "params"
   ]
  },
  {
   "cell_type": "code",
   "execution_count": 100,
   "metadata": {
    "_uuid": "a55fe24bf863af86951b638c0e04934e6853cd54"
   },
   "outputs": [
    {
     "name": "stdout",
     "output_type": "stream",
     "text": [
      "[0]\ttest-mae:0.267145\n",
      "Will train until test-mae hasn't improved in 10 rounds.\n",
      "[1]\ttest-mae:0.266267\n",
      "[2]\ttest-mae:0.264863\n",
      "[3]\ttest-mae:0.263106\n",
      "[4]\ttest-mae:0.260978\n",
      "[5]\ttest-mae:0.258876\n",
      "[6]\ttest-mae:0.256891\n",
      "[7]\ttest-mae:0.25483\n",
      "[8]\ttest-mae:0.253111\n",
      "[9]\ttest-mae:0.251095\n",
      "[10]\ttest-mae:0.249836\n",
      "[11]\ttest-mae:0.248673\n",
      "[12]\ttest-mae:0.246796\n",
      "[13]\ttest-mae:0.245543\n",
      "[14]\ttest-mae:0.243703\n",
      "[15]\ttest-mae:0.242124\n",
      "[16]\ttest-mae:0.24053\n",
      "[17]\ttest-mae:0.239101\n",
      "[18]\ttest-mae:0.238153\n",
      "[19]\ttest-mae:0.236287\n",
      "[20]\ttest-mae:0.235146\n",
      "[21]\ttest-mae:0.233624\n",
      "[22]\ttest-mae:0.232473\n",
      "[23]\ttest-mae:0.230682\n",
      "[24]\ttest-mae:0.229212\n",
      "[25]\ttest-mae:0.228101\n",
      "[26]\ttest-mae:0.226651\n",
      "[27]\ttest-mae:0.225003\n",
      "[28]\ttest-mae:0.223589\n",
      "[29]\ttest-mae:0.22223\n",
      "[30]\ttest-mae:0.221451\n",
      "[31]\ttest-mae:0.220631\n",
      "[32]\ttest-mae:0.218955\n",
      "[33]\ttest-mae:0.217967\n",
      "[34]\ttest-mae:0.216692\n",
      "[35]\ttest-mae:0.215062\n",
      "[36]\ttest-mae:0.213866\n",
      "[37]\ttest-mae:0.212267\n",
      "[38]\ttest-mae:0.210766\n",
      "[39]\ttest-mae:0.209815\n",
      "[40]\ttest-mae:0.208261\n",
      "[41]\ttest-mae:0.207025\n",
      "[42]\ttest-mae:0.205501\n",
      "[43]\ttest-mae:0.204066\n",
      "[44]\ttest-mae:0.203356\n",
      "[45]\ttest-mae:0.201951\n",
      "[46]\ttest-mae:0.200559\n",
      "[47]\ttest-mae:0.19945\n",
      "[48]\ttest-mae:0.198017\n",
      "[49]\ttest-mae:0.196886\n",
      "[50]\ttest-mae:0.195474\n",
      "[51]\ttest-mae:0.194152\n",
      "[52]\ttest-mae:0.193198\n",
      "[53]\ttest-mae:0.19237\n",
      "[54]\ttest-mae:0.191079\n",
      "[55]\ttest-mae:0.19002\n",
      "[56]\ttest-mae:0.18869\n",
      "[57]\ttest-mae:0.187377\n",
      "[58]\ttest-mae:0.186146\n",
      "[59]\ttest-mae:0.184868\n",
      "[60]\ttest-mae:0.183611\n",
      "[61]\ttest-mae:0.182359\n",
      "[62]\ttest-mae:0.1812\n",
      "[63]\ttest-mae:0.180193\n",
      "[64]\ttest-mae:0.178992\n",
      "[65]\ttest-mae:0.177794\n",
      "[66]\ttest-mae:0.17682\n",
      "[67]\ttest-mae:0.176125\n",
      "[68]\ttest-mae:0.175217\n",
      "[69]\ttest-mae:0.174526\n",
      "[70]\ttest-mae:0.173598\n",
      "[71]\ttest-mae:0.172513\n",
      "[72]\ttest-mae:0.171847\n",
      "[73]\ttest-mae:0.170787\n",
      "[74]\ttest-mae:0.169681\n",
      "[75]\ttest-mae:0.168598\n",
      "[76]\ttest-mae:0.16752\n",
      "[77]\ttest-mae:0.166457\n",
      "[78]\ttest-mae:0.165857\n",
      "[79]\ttest-mae:0.16515\n",
      "[80]\ttest-mae:0.164337\n",
      "[81]\ttest-mae:0.163481\n",
      "[82]\ttest-mae:0.162646\n",
      "[83]\ttest-mae:0.161642\n",
      "[84]\ttest-mae:0.160971\n",
      "[85]\ttest-mae:0.159994\n",
      "[86]\ttest-mae:0.159023\n",
      "[87]\ttest-mae:0.158198\n",
      "[88]\ttest-mae:0.157443\n",
      "[89]\ttest-mae:0.156701\n",
      "[90]\ttest-mae:0.155904\n",
      "[91]\ttest-mae:0.154969\n",
      "[92]\ttest-mae:0.154084\n",
      "[93]\ttest-mae:0.153478\n",
      "[94]\ttest-mae:0.15258\n",
      "[95]\ttest-mae:0.151682\n",
      "[96]\ttest-mae:0.150835\n",
      "[97]\ttest-mae:0.15\n",
      "[98]\ttest-mae:0.149131\n",
      "[99]\ttest-mae:0.148881\n",
      "[100]\ttest-mae:0.148031\n",
      "[101]\ttest-mae:0.147359\n",
      "[102]\ttest-mae:0.146535\n",
      "[103]\ttest-mae:0.145706\n",
      "[104]\ttest-mae:0.14493\n",
      "[105]\ttest-mae:0.144244\n",
      "[106]\ttest-mae:0.143448\n",
      "[107]\ttest-mae:0.142778\n",
      "[108]\ttest-mae:0.142165\n",
      "[109]\ttest-mae:0.141421\n",
      "[110]\ttest-mae:0.14071\n",
      "[111]\ttest-mae:0.14006\n",
      "[112]\ttest-mae:0.139638\n",
      "[113]\ttest-mae:0.138895\n",
      "[114]\ttest-mae:0.138197\n",
      "[115]\ttest-mae:0.137523\n",
      "[116]\ttest-mae:0.136812\n",
      "[117]\ttest-mae:0.136106\n",
      "[118]\ttest-mae:0.135401\n",
      "[119]\ttest-mae:0.134806\n",
      "[120]\ttest-mae:0.134437\n",
      "[121]\ttest-mae:0.133888\n",
      "[122]\ttest-mae:0.13324\n",
      "[123]\ttest-mae:0.132859\n",
      "[124]\ttest-mae:0.132197\n",
      "[125]\ttest-mae:0.131637\n",
      "[126]\ttest-mae:0.131085\n",
      "[127]\ttest-mae:0.130439\n",
      "[128]\ttest-mae:0.130031\n",
      "[129]\ttest-mae:0.129406\n",
      "[130]\ttest-mae:0.129062\n",
      "[131]\ttest-mae:0.128672\n",
      "[132]\ttest-mae:0.128156\n",
      "[133]\ttest-mae:0.127633\n",
      "[134]\ttest-mae:0.127373\n",
      "[135]\ttest-mae:0.126804\n",
      "[136]\ttest-mae:0.126244\n",
      "[137]\ttest-mae:0.125924\n",
      "[138]\ttest-mae:0.125368\n",
      "[139]\ttest-mae:0.124827\n",
      "[140]\ttest-mae:0.124472\n",
      "[141]\ttest-mae:0.124124\n",
      "[142]\ttest-mae:0.123563\n",
      "[143]\ttest-mae:0.123038\n",
      "[144]\ttest-mae:0.122489\n",
      "[145]\ttest-mae:0.121952\n",
      "[146]\ttest-mae:0.12163\n",
      "[147]\ttest-mae:0.121412\n",
      "[148]\ttest-mae:0.12089\n",
      "[149]\ttest-mae:0.120378\n",
      "[150]\ttest-mae:0.120106\n",
      "[151]\ttest-mae:0.119627\n",
      "[152]\ttest-mae:0.119159\n",
      "[153]\ttest-mae:0.11885\n",
      "[154]\ttest-mae:0.118433\n",
      "[155]\ttest-mae:0.117942\n",
      "[156]\ttest-mae:0.117487\n",
      "[157]\ttest-mae:0.117081\n",
      "[158]\ttest-mae:0.116874\n",
      "[159]\ttest-mae:0.116479\n",
      "[160]\ttest-mae:0.116083\n",
      "[161]\ttest-mae:0.115645\n",
      "[162]\ttest-mae:0.115186\n",
      "[163]\ttest-mae:0.114808\n",
      "[164]\ttest-mae:0.114404\n",
      "[165]\ttest-mae:0.113995\n",
      "[166]\ttest-mae:0.113773\n",
      "[167]\ttest-mae:0.113509\n",
      "[168]\ttest-mae:0.113104\n",
      "[169]\ttest-mae:0.112676\n",
      "[170]\ttest-mae:0.112258\n",
      "[171]\ttest-mae:0.111904\n",
      "[172]\ttest-mae:0.111517\n",
      "[173]\ttest-mae:0.111198\n",
      "[174]\ttest-mae:0.110792\n",
      "[175]\ttest-mae:0.110418\n",
      "[176]\ttest-mae:0.110083\n",
      "[177]\ttest-mae:0.10975\n",
      "[178]\ttest-mae:0.109584\n",
      "[179]\ttest-mae:0.109197\n",
      "[180]\ttest-mae:0.10885\n",
      "[181]\ttest-mae:0.108532\n",
      "[182]\ttest-mae:0.108216\n",
      "[183]\ttest-mae:0.108\n",
      "[184]\ttest-mae:0.107789\n",
      "[185]\ttest-mae:0.107426\n",
      "[186]\ttest-mae:0.107119\n",
      "[187]\ttest-mae:0.106747\n",
      "[188]\ttest-mae:0.106451\n",
      "[189]\ttest-mae:0.106281\n",
      "[190]\ttest-mae:0.105984\n",
      "[191]\ttest-mae:0.105673\n",
      "[192]\ttest-mae:0.105408\n",
      "[193]\ttest-mae:0.105135\n",
      "[194]\ttest-mae:0.104787\n",
      "[195]\ttest-mae:0.104458\n",
      "[196]\ttest-mae:0.104181\n",
      "[197]\ttest-mae:0.104047\n",
      "[198]\ttest-mae:0.103779\n",
      "[199]\ttest-mae:0.103514\n"
     ]
    }
   ],
   "source": [
    "def XGBmodel(x_train,x_test,y_train,y_test,params):\n",
    "    matrix_train = xgb.DMatrix(x_train,label=y_train)\n",
    "    matrix_test = xgb.DMatrix(x_test,label=y_test)\n",
    "    model=xgb.train(params=params,\n",
    "                    dtrain=matrix_train,num_boost_round=10, \n",
    "                    early_stopping_rounds=10,evals=[(matrix_test,'test')])\n",
    "    return model\n",
    "\n",
    "model = XGBmodel(x_train,x_val,y_train,y_val,params)"
   ]
  },
  {
   "cell_type": "code",
   "execution_count": null,
   "metadata": {
    "_uuid": "7cb1d5e55496ee8a0b3979399811bac9158a1641"
   },
   "outputs": [],
   "source": [
    "# prediction = model.predict(xgb.DMatrix(X_test), ntree_limit = model.best_ntree_limit)"
   ]
  },
  {
   "cell_type": "code",
   "execution_count": null,
   "metadata": {
    "_uuid": "ad821182f87f543f625d67f05817d465b22aeeb8"
   },
   "outputs": [],
   "source": [
    "# prediction = prediction.flatten()"
   ]
  },
  {
   "cell_type": "code",
   "execution_count": null,
   "metadata": {
    "_uuid": "056b7e8f88aec62a917d0bed30b7868015e9fd75"
   },
   "outputs": [],
   "source": [
    "# pred_df = pd.DataFrame({'Id' : test_id['Id'], 'winPlacePerc' : prediction})\n",
    "\n",
    "# # Create submission file\n",
    "# pred_df.to_csv(\"submission.csv\", index=False)"
   ]
  },
  {
   "cell_type": "code",
   "execution_count": 87,
   "metadata": {
    "_uuid": "f0165352aa8d86671bf6fcfb688e200684994241"
   },
   "outputs": [
    {
     "name": "stdout",
     "output_type": "stream",
     "text": [
      "0.14961001114253877\n",
      "0.2792063083911888\n",
      "0.3777963486757521\n",
      "0.4713508185480415\n",
      "0.5567840918830891\n",
      "0.59816148110054\n",
      "0.6346961515385275\n",
      "0.6668166623810748\n",
      "0.6930873403617039\n",
      "0.7184580440558841\n",
      "0.7434644724436444\n",
      "0.7658995457272649\n",
      "0.7876917802348504\n",
      "0.8092054512728207\n",
      "0.8300762835347562\n",
      "0.8485900402845633\n",
      "0.8659895431559098\n",
      "0.8813533899031456\n",
      "0.8963743893031627\n",
      "0.9105811262535356\n"
     ]
    },
    {
     "data": {
      "text/html": [
       "<div>\n",
       "<style scoped>\n",
       "    .dataframe tbody tr th:only-of-type {\n",
       "        vertical-align: middle;\n",
       "    }\n",
       "\n",
       "    .dataframe tbody tr th {\n",
       "        vertical-align: top;\n",
       "    }\n",
       "\n",
       "    .dataframe thead th {\n",
       "        text-align: right;\n",
       "    }\n",
       "</style>\n",
       "<table border=\"1\" class=\"dataframe\">\n",
       "  <thead>\n",
       "    <tr style=\"text-align: right;\">\n",
       "      <th></th>\n",
       "      <th>cols</th>\n",
       "      <th>imp</th>\n",
       "    </tr>\n",
       "  </thead>\n",
       "  <tbody>\n",
       "    <tr>\n",
       "      <th>1</th>\n",
       "      <td>killPlace</td>\n",
       "      <td>0.149610</td>\n",
       "    </tr>\n",
       "    <tr>\n",
       "      <th>6</th>\n",
       "      <td>numGroups</td>\n",
       "      <td>0.129596</td>\n",
       "    </tr>\n",
       "    <tr>\n",
       "      <th>0</th>\n",
       "      <td>walkDistance</td>\n",
       "      <td>0.098590</td>\n",
       "    </tr>\n",
       "    <tr>\n",
       "      <th>3</th>\n",
       "      <td>maxPlace</td>\n",
       "      <td>0.093554</td>\n",
       "    </tr>\n",
       "    <tr>\n",
       "      <th>4</th>\n",
       "      <td>matchDuration</td>\n",
       "      <td>0.085433</td>\n",
       "    </tr>\n",
       "    <tr>\n",
       "      <th>15</th>\n",
       "      <td>rideDistance</td>\n",
       "      <td>0.041377</td>\n",
       "    </tr>\n",
       "    <tr>\n",
       "      <th>12</th>\n",
       "      <td>damageDealt</td>\n",
       "      <td>0.036535</td>\n",
       "    </tr>\n",
       "    <tr>\n",
       "      <th>2</th>\n",
       "      <td>kills</td>\n",
       "      <td>0.032121</td>\n",
       "    </tr>\n",
       "    <tr>\n",
       "      <th>8</th>\n",
       "      <td>weaponsAcquired</td>\n",
       "      <td>0.026271</td>\n",
       "    </tr>\n",
       "    <tr>\n",
       "      <th>17</th>\n",
       "      <td>groupId_cat</td>\n",
       "      <td>0.025371</td>\n",
       "    </tr>\n",
       "    <tr>\n",
       "      <th>25</th>\n",
       "      <td>matchId_cat</td>\n",
       "      <td>0.025006</td>\n",
       "    </tr>\n",
       "    <tr>\n",
       "      <th>22</th>\n",
       "      <td>rankPoints</td>\n",
       "      <td>0.022435</td>\n",
       "    </tr>\n",
       "    <tr>\n",
       "      <th>9</th>\n",
       "      <td>longestKill</td>\n",
       "      <td>0.021792</td>\n",
       "    </tr>\n",
       "    <tr>\n",
       "      <th>10</th>\n",
       "      <td>boosts</td>\n",
       "      <td>0.021514</td>\n",
       "    </tr>\n",
       "    <tr>\n",
       "      <th>27</th>\n",
       "      <td>winPoints</td>\n",
       "      <td>0.020871</td>\n",
       "    </tr>\n",
       "    <tr>\n",
       "      <th>18</th>\n",
       "      <td>assists</td>\n",
       "      <td>0.018514</td>\n",
       "    </tr>\n",
       "    <tr>\n",
       "      <th>20</th>\n",
       "      <td>heals</td>\n",
       "      <td>0.017400</td>\n",
       "    </tr>\n",
       "    <tr>\n",
       "      <th>11</th>\n",
       "      <td>matchType_squad</td>\n",
       "      <td>0.015364</td>\n",
       "    </tr>\n",
       "    <tr>\n",
       "      <th>7</th>\n",
       "      <td>killPoints</td>\n",
       "      <td>0.015021</td>\n",
       "    </tr>\n",
       "  </tbody>\n",
       "</table>\n",
       "</div>"
      ],
      "text/plain": [
       "               cols       imp\n",
       "1         killPlace  0.149610\n",
       "6         numGroups  0.129596\n",
       "0      walkDistance  0.098590\n",
       "3          maxPlace  0.093554\n",
       "4     matchDuration  0.085433\n",
       "15     rideDistance  0.041377\n",
       "12      damageDealt  0.036535\n",
       "2             kills  0.032121\n",
       "8   weaponsAcquired  0.026271\n",
       "17      groupId_cat  0.025371\n",
       "25      matchId_cat  0.025006\n",
       "22       rankPoints  0.022435\n",
       "9       longestKill  0.021792\n",
       "10           boosts  0.021514\n",
       "27        winPoints  0.020871\n",
       "18          assists  0.018514\n",
       "20            heals  0.017400\n",
       "11  matchType_squad  0.015364\n",
       "7        killPoints  0.015021"
      ]
     },
     "execution_count": 87,
     "metadata": {},
     "output_type": "execute_result"
    }
   ],
   "source": [
    "imp = pd.DataFrame(list(model.get_fscore().items()), columns=['cols', 'imp'])\n",
    "imp['imp'] = imp['imp'] / imp['imp'].sum()\n",
    "imp = imp.sort_values('imp', ascending=False)\n",
    "for i in range(imp.shape[0]):\n",
    "    print(imp['imp'][:i+1].sum())\n",
    "    if imp['imp'][:i+1].sum() > 0.9:\n",
    "        max_features = i\n",
    "        break\n",
    "max_features\n",
    "imp = imp[:max_features]\n",
    "imp"
   ]
  },
  {
   "cell_type": "code",
   "execution_count": 88,
   "metadata": {
    "_uuid": "15b53e4f39d560c6d48e65e019407669caf5b5e6"
   },
   "outputs": [],
   "source": [
    "x_traink = x_train[imp['cols']]\n",
    "x_valk = x_val[imp['cols']]"
   ]
  },
  {
   "cell_type": "code",
   "execution_count": 89,
   "metadata": {
    "_uuid": "543b2d50ecef746a85c51e46b7b6c4d9be02fcb3"
   },
   "outputs": [
    {
     "name": "stdout",
     "output_type": "stream",
     "text": [
      "[0]\ttest-mae:0.262588\n",
      "Will train until test-mae hasn't improved in 10 rounds.\n",
      "[1]\ttest-mae:0.255544\n",
      "[2]\ttest-mae:0.249221\n",
      "[3]\ttest-mae:0.242602\n",
      "[4]\ttest-mae:0.236614\n",
      "[5]\ttest-mae:0.230429\n",
      "[6]\ttest-mae:0.224832\n",
      "[7]\ttest-mae:0.218961\n",
      "[8]\ttest-mae:0.213351\n",
      "[9]\ttest-mae:0.208142\n",
      "[10]\ttest-mae:0.202827\n",
      "[11]\ttest-mae:0.197689\n",
      "[12]\ttest-mae:0.192709\n",
      "[13]\ttest-mae:0.187905\n",
      "[14]\ttest-mae:0.183542\n",
      "[15]\ttest-mae:0.179034\n",
      "[16]\ttest-mae:0.174701\n",
      "[17]\ttest-mae:0.170827\n",
      "[18]\ttest-mae:0.166748\n",
      "[19]\ttest-mae:0.163141\n",
      "[20]\ttest-mae:0.159352\n",
      "[21]\ttest-mae:0.155945\n",
      "[22]\ttest-mae:0.152697\n",
      "[23]\ttest-mae:0.149254\n",
      "[24]\ttest-mae:0.145905\n",
      "[25]\ttest-mae:0.143069\n",
      "[26]\ttest-mae:0.139967\n",
      "[27]\ttest-mae:0.137111\n",
      "[28]\ttest-mae:0.134464\n",
      "[29]\ttest-mae:0.132575\n",
      "[30]\ttest-mae:0.12985\n",
      "[31]\ttest-mae:0.127209\n",
      "[32]\ttest-mae:0.124649\n",
      "[33]\ttest-mae:0.122219\n",
      "[34]\ttest-mae:0.12008\n",
      "[35]\ttest-mae:0.117829\n",
      "[36]\ttest-mae:0.115636\n",
      "[37]\ttest-mae:0.113575\n",
      "[38]\ttest-mae:0.111608\n",
      "[39]\ttest-mae:0.109647\n",
      "[40]\ttest-mae:0.108233\n",
      "[41]\ttest-mae:0.1064\n",
      "[42]\ttest-mae:0.104696\n",
      "[43]\ttest-mae:0.103004\n",
      "[44]\ttest-mae:0.101357\n",
      "[45]\ttest-mae:0.099783\n",
      "[46]\ttest-mae:0.098284\n",
      "[47]\ttest-mae:0.096834\n",
      "[48]\ttest-mae:0.095605\n",
      "[49]\ttest-mae:0.094255\n",
      "[50]\ttest-mae:0.092965\n",
      "[51]\ttest-mae:0.091701\n",
      "[52]\ttest-mae:0.090516\n",
      "[53]\ttest-mae:0.089368\n",
      "[54]\ttest-mae:0.088273\n",
      "[55]\ttest-mae:0.087328\n",
      "[56]\ttest-mae:0.086273\n",
      "[57]\ttest-mae:0.085258\n",
      "[58]\ttest-mae:0.08432\n",
      "[59]\ttest-mae:0.0834\n",
      "[60]\ttest-mae:0.082493\n",
      "[61]\ttest-mae:0.081689\n",
      "[62]\ttest-mae:0.080867\n",
      "[63]\ttest-mae:0.08008\n",
      "[64]\ttest-mae:0.079425\n",
      "[65]\ttest-mae:0.078696\n",
      "[66]\ttest-mae:0.077988\n",
      "[67]\ttest-mae:0.077334\n",
      "[68]\ttest-mae:0.076681\n",
      "[69]\ttest-mae:0.076044\n",
      "[70]\ttest-mae:0.075433\n",
      "[71]\ttest-mae:0.074857\n",
      "[72]\ttest-mae:0.074347\n",
      "[73]\ttest-mae:0.073755\n",
      "[74]\ttest-mae:0.073249\n",
      "[75]\ttest-mae:0.072757\n",
      "[76]\ttest-mae:0.072293\n",
      "[77]\ttest-mae:0.071844\n",
      "[78]\ttest-mae:0.071389\n",
      "[79]\ttest-mae:0.070943\n",
      "[80]\ttest-mae:0.070555\n",
      "[81]\ttest-mae:0.070131\n",
      "[82]\ttest-mae:0.069837\n",
      "[83]\ttest-mae:0.069537\n",
      "[84]\ttest-mae:0.069289\n",
      "[85]\ttest-mae:0.06895\n",
      "[86]\ttest-mae:0.068622\n",
      "[87]\ttest-mae:0.068305\n",
      "[88]\ttest-mae:0.068\n",
      "[89]\ttest-mae:0.06769\n",
      "[90]\ttest-mae:0.067423\n",
      "[91]\ttest-mae:0.067182\n",
      "[92]\ttest-mae:0.06692\n",
      "[93]\ttest-mae:0.066651\n",
      "[94]\ttest-mae:0.066389\n",
      "[95]\ttest-mae:0.066125\n",
      "[96]\ttest-mae:0.065952\n",
      "[97]\ttest-mae:0.065748\n",
      "[98]\ttest-mae:0.065593\n",
      "[99]\ttest-mae:0.065442\n",
      "[100]\ttest-mae:0.065222\n",
      "[101]\ttest-mae:0.065008\n",
      "[102]\ttest-mae:0.064796\n",
      "[103]\ttest-mae:0.064668\n",
      "[104]\ttest-mae:0.064479\n",
      "[105]\ttest-mae:0.064319\n",
      "[106]\ttest-mae:0.064144\n",
      "[107]\ttest-mae:0.064005\n",
      "[108]\ttest-mae:0.063858\n",
      "[109]\ttest-mae:0.063716\n",
      "[110]\ttest-mae:0.063589\n",
      "[111]\ttest-mae:0.063435\n",
      "[112]\ttest-mae:0.063316\n",
      "[113]\ttest-mae:0.063175\n",
      "[114]\ttest-mae:0.063036\n",
      "[115]\ttest-mae:0.062912\n",
      "[116]\ttest-mae:0.062795\n",
      "[117]\ttest-mae:0.062696\n",
      "[118]\ttest-mae:0.062591\n",
      "[119]\ttest-mae:0.062495\n",
      "[120]\ttest-mae:0.062424\n",
      "[121]\ttest-mae:0.062317\n",
      "[122]\ttest-mae:0.062221\n",
      "[123]\ttest-mae:0.062147\n",
      "[124]\ttest-mae:0.062052\n",
      "[125]\ttest-mae:0.061983\n",
      "[126]\ttest-mae:0.061887\n",
      "[127]\ttest-mae:0.061802\n",
      "[128]\ttest-mae:0.061712\n",
      "[129]\ttest-mae:0.061624\n",
      "[130]\ttest-mae:0.061556\n",
      "[131]\ttest-mae:0.061484\n",
      "[132]\ttest-mae:0.061439\n",
      "[133]\ttest-mae:0.061388\n",
      "[134]\ttest-mae:0.061319\n",
      "[135]\ttest-mae:0.06128\n",
      "[136]\ttest-mae:0.061226\n",
      "[137]\ttest-mae:0.061173\n",
      "[138]\ttest-mae:0.061128\n",
      "[139]\ttest-mae:0.061076\n",
      "[140]\ttest-mae:0.061028\n",
      "[141]\ttest-mae:0.060956\n",
      "[142]\ttest-mae:0.060908\n",
      "[143]\ttest-mae:0.060861\n",
      "[144]\ttest-mae:0.060791\n",
      "[145]\ttest-mae:0.060759\n",
      "[146]\ttest-mae:0.060715\n",
      "[147]\ttest-mae:0.060647\n",
      "[148]\ttest-mae:0.060618\n",
      "[149]\ttest-mae:0.060548\n",
      "[150]\ttest-mae:0.060498\n",
      "[151]\ttest-mae:0.060463\n",
      "[152]\ttest-mae:0.060423\n",
      "[153]\ttest-mae:0.060367\n",
      "[154]\ttest-mae:0.060337\n",
      "[155]\ttest-mae:0.060319\n",
      "[156]\ttest-mae:0.060293\n",
      "[157]\ttest-mae:0.060273\n",
      "[158]\ttest-mae:0.060243\n",
      "[159]\ttest-mae:0.060213\n",
      "[160]\ttest-mae:0.060157\n",
      "[161]\ttest-mae:0.060102\n",
      "[162]\ttest-mae:0.060052\n",
      "[163]\ttest-mae:0.060029\n",
      "[164]\ttest-mae:0.060012\n",
      "[165]\ttest-mae:0.059986\n",
      "[166]\ttest-mae:0.059937\n",
      "[167]\ttest-mae:0.059919\n",
      "[168]\ttest-mae:0.059891\n",
      "[169]\ttest-mae:0.059867\n",
      "[170]\ttest-mae:0.059843\n",
      "[171]\ttest-mae:0.059817\n",
      "[172]\ttest-mae:0.059798\n",
      "[173]\ttest-mae:0.059754\n",
      "[174]\ttest-mae:0.059734\n",
      "[175]\ttest-mae:0.059711\n",
      "[176]\ttest-mae:0.05969\n",
      "[177]\ttest-mae:0.059673\n",
      "[178]\ttest-mae:0.05966\n",
      "[179]\ttest-mae:0.05964\n",
      "[180]\ttest-mae:0.059618\n",
      "[181]\ttest-mae:0.059598\n",
      "[182]\ttest-mae:0.05958\n",
      "[183]\ttest-mae:0.059563\n",
      "[184]\ttest-mae:0.059546\n",
      "[185]\ttest-mae:0.059526\n",
      "[186]\ttest-mae:0.059514\n",
      "[187]\ttest-mae:0.059505\n",
      "[188]\ttest-mae:0.059485\n",
      "[189]\ttest-mae:0.059467\n",
      "[190]\ttest-mae:0.059452\n",
      "[191]\ttest-mae:0.059444\n",
      "[192]\ttest-mae:0.059434\n",
      "[193]\ttest-mae:0.059421\n",
      "[194]\ttest-mae:0.059406\n",
      "[195]\ttest-mae:0.059389\n",
      "[196]\ttest-mae:0.059371\n",
      "[197]\ttest-mae:0.059359\n",
      "[198]\ttest-mae:0.059348\n",
      "[199]\ttest-mae:0.05933\n"
     ]
    }
   ],
   "source": [
    "model = XGBmodel(x_traink,x_valk,y_train,y_val,params)"
   ]
  },
  {
   "cell_type": "code",
   "execution_count": 90,
   "metadata": {
    "_uuid": "2ef1336c74add0c2a702b1199b22e1a44fcf5c42"
   },
   "outputs": [],
   "source": [
    "# trees = GradientBoostingRegressor(alpha=0.9, criterion='friedman_mse', init=None,\n",
    "#              learning_rate=1, loss='ls', max_depth=3, max_features=None,\n",
    "#              max_leaf_nodes=None, min_impurity_decrease=0.0,\n",
    "#              min_impurity_split=None, min_samples_leaf=1,\n",
    "#              min_samples_split=2, min_weight_fraction_leaf=0.0,\n",
    "#              n_estimators=1, presort='auto', random_state=None,\n",
    "#              subsample=1.0, verbose=0, warm_start=False)\n",
    "# trees.fit(x_traink, y_train)\n",
    "# y_pred = trees.predict(x_valk)\n",
    "# mae = sklearn.metrics.mean_absolute_error(y_pred, y_val)\n",
    "# mae"
   ]
  },
  {
   "cell_type": "code",
   "execution_count": 91,
   "metadata": {
    "_uuid": "5276f4f03028af60ed3453b9d8b0b442e8fd262f"
   },
   "outputs": [
    {
     "data": {
      "text/plain": [
       "0.10180980994078336"
      ]
     },
     "execution_count": 91,
     "metadata": {},
     "output_type": "execute_result"
    }
   ],
   "source": []
  },
  {
   "cell_type": "code",
   "execution_count": 93,
   "metadata": {
    "_uuid": "85b24ccce3d5bca8a5136cd2d13dc97b71ae4967"
   },
   "outputs": [
    {
     "data": {
      "text/plain": [
       "0.06282804003650581"
      ]
     },
     "execution_count": 93,
     "metadata": {},
     "output_type": "execute_result"
    }
   ],
   "source": [
    "# m2 = RandomForestRegressor(n_estimators=80, min_samples_leaf=3, max_features='sqrt',\n",
    "#                           n_jobs=-1)\n",
    "# m2.fit(x_traink, y_train)\n",
    "# y_pred = m2.predict(x_valk)\n",
    "# mae = sklearn.metrics.mean_absolute_error(y_pred, y_val)\n",
    "# mae"
   ]
  },
  {
   "cell_type": "markdown",
   "metadata": {
    "_uuid": "c1bba2c0be70c97964cd6ed348d8154e6aa45647"
   },
   "source": []
  },
  {
   "cell_type": "markdown",
   "metadata": {
    "_uuid": "a1252a35933fcd84f675fe550f5563b751ebcd45"
   },
   "source": [
    "## LightGBM"
   ]
  },
  {
   "cell_type": "code",
   "execution_count": 71,
   "metadata": {
    "_uuid": "af81d46f417e48c05dd44c7e77f6c3a702a4cca9"
   },
   "outputs": [
    {
     "name": "stderr",
     "output_type": "stream",
     "text": [
      "/opt/conda/lib/python3.6/site-packages/lightgbm/engine.py:116: UserWarning: Found `n_estimators` in params. Will use it instead of argument\n",
      "  warnings.warn(\"Found `{}` in params. Will use it instead of argument\".format(alias))\n",
      "/opt/conda/lib/python3.6/site-packages/lightgbm/engine.py:121: UserWarning: Found `early_stopping_rounds` in params. Will use it instead of argument\n",
      "  warnings.warn(\"Found `{}` in params. Will use it instead of argument\".format(alias))\n"
     ]
    },
    {
     "name": "stdout",
     "output_type": "stream",
     "text": [
      "Training until validation scores don't improve for 200 rounds.\n",
      "[1000]\ttraining's l1: 0.055394\tvalid_1's l1: 0.0572676\n",
      "[2000]\ttraining's l1: 0.0534574\tvalid_1's l1: 0.0568973\n",
      "[3000]\ttraining's l1: 0.0518816\tvalid_1's l1: 0.0567214\n",
      "[4000]\ttraining's l1: 0.0504526\tvalid_1's l1: 0.0566013\n",
      "[5000]\ttraining's l1: 0.0491274\tvalid_1's l1: 0.0565206\n",
      "Early stopping, best iteration is:\n",
      "[5411]\ttraining's l1: 0.0486174\tvalid_1's l1: 0.0565023\n"
     ]
    }
   ],
   "source": [
    "# params = {\"objective\" : \"regression\", \"metric\" : \"mae\", 'n_estimators':20000, 'early_stopping_rounds':200,\n",
    "#               \"num_leaves\" : 31, \"learning_rate\" : 0.05, \"bagging_fraction\" : 0.7,\n",
    "#                \"bagging_seed\" : 0, \"num_threads\" : 4,\"colsample_bytree\" : 0.7\n",
    "#              }\n",
    "    \n",
    "# lgtrain = lgb.Dataset(x_train, label=y_train)\n",
    "# lgval = lgb.Dataset(x_val, label=y_val)\n",
    "# model = lgb.train(params, lgtrain, valid_sets=[lgtrain, lgval], early_stopping_rounds=200, verbose_eval=1000)"
   ]
  },
  {
   "cell_type": "code",
   "execution_count": 107,
   "metadata": {
    "_uuid": "0496e3d552ef13e2a437c874a87b427acf662ab7"
   },
   "outputs": [],
   "source": [
    "# params = {\"objective\" : \"regression\", \"metric\" : \"mae\", 'n_estimators':20000, 'early_stopping_rounds':200,\n",
    "#               \"num_leaves\" : 31, \"learning_rate\" : 0.05, \"bagging_fraction\" : 0.7,\n",
    "#                \"bagging_seed\" : 0, \"num_threads\" : 4,\"colsample_bytree\" : 0.7\n",
    "#              }\n",
    "    \n",
    "# lgtrain = lgb.Dataset(x_traink, label=y_train)\n",
    "# lgval = lgb.Dataset(x_valk, label=y_val)\n",
    "# model = lgb.train(params, lgtrain, valid_sets=[lgtrain, lgval], early_stopping_rounds=200, verbose_eval=1000)"
   ]
  },
  {
   "cell_type": "code",
   "execution_count": 72,
   "metadata": {
    "_uuid": "8a62d2ac0798f68d88dab2f0ba1f8139e757009b"
   },
   "outputs": [],
   "source": [
    "# pred_test_y = model.predict(X_test, num_iteration=model.best_iteration)"
   ]
  },
  {
   "cell_type": "code",
   "execution_count": 73,
   "metadata": {
    "_uuid": "5d13d708cb6ff3ee1f090c87e71c4664f9760175"
   },
   "outputs": [],
   "source": [
    "# df_sub = pd.read_csv(\"../input/sample_submission_V2.csv\")\n",
    "# df_test = pd.read_csv(\"../input/test_V2.csv\")\n",
    "# df_sub['winPlacePerc'] = pred_test_y\n",
    "# # Restore some columns\n",
    "# df_sub = df_sub.merge(df_test[[\"Id\", \"matchId\", \"groupId\", \"maxPlace\", \"numGroups\"]], on=\"Id\", how=\"left\")\n",
    "\n",
    "# # Sort, rank, and assign adjusted ratio\n",
    "# df_sub_group = df_sub.groupby([\"matchId\", \"groupId\"]).first().reset_index()\n",
    "# df_sub_group[\"rank\"] = df_sub_group.groupby([\"matchId\"])[\"winPlacePerc\"].rank()\n",
    "# df_sub_group = df_sub_group.merge(\n",
    "#     df_sub_group.groupby(\"matchId\")[\"rank\"].max().to_frame(\"max_rank\").reset_index(), \n",
    "#     on=\"matchId\", how=\"left\")\n",
    "# df_sub_group[\"adjusted_perc\"] = (df_sub_group[\"rank\"] - 1) / (df_sub_group[\"numGroups\"] - 1)\n",
    "\n",
    "# df_sub = df_sub.merge(df_sub_group[[\"adjusted_perc\", \"matchId\", \"groupId\"]], on=[\"matchId\", \"groupId\"], how=\"left\")\n",
    "# df_sub[\"winPlacePerc\"] = df_sub[\"adjusted_perc\"]\n",
    "\n",
    "# # Deal with edge cases\n",
    "# df_sub.loc[df_sub.maxPlace == 0, \"winPlacePerc\"] = 0\n",
    "# df_sub.loc[df_sub.maxPlace == 1, \"winPlacePerc\"] = 1\n",
    "\n",
    "# # Align with maxPlace\n",
    "# # Credit: https://www.kaggle.com/anycode/simple-nn-baseline-4\n",
    "# subset = df_sub.loc[df_sub.maxPlace > 1]\n",
    "# gap = 1.0 / (subset.maxPlace.values - 1)\n",
    "# new_perc = np.around(subset.winPlacePerc.values / gap) * gap\n",
    "# df_sub.loc[df_sub.maxPlace > 1, \"winPlacePerc\"] = new_perc\n",
    "\n",
    "# # Edge case\n",
    "# df_sub.loc[(df_sub.maxPlace > 1) & (df_sub.numGroups == 1), \"winPlacePerc\"] = 0\n",
    "# assert df_sub[\"winPlacePerc\"].isnull().sum() == 0\n",
    "\n",
    "# df_sub[[\"Id\", \"winPlacePerc\"]].to_csv(\"submission_adjusted.csv\", index=False)"
   ]
  },
  {
   "cell_type": "code",
   "execution_count": null,
   "metadata": {
    "_uuid": "067a542b9ab33e93ddfaee0e286a4e56e53445b2"
   },
   "outputs": [],
   "source": []
  }
 ],
 "metadata": {
  "kernelspec": {
   "display_name": "Python 3",
   "language": "python",
   "name": "python3"
  },
  "language_info": {
   "codemirror_mode": {
    "name": "ipython",
    "version": 3
   },
   "file_extension": ".py",
   "mimetype": "text/x-python",
   "name": "python",
   "nbconvert_exporter": "python",
   "pygments_lexer": "ipython3",
   "version": "3.6.7"
  }
 },
 "nbformat": 4,
 "nbformat_minor": 1
}
